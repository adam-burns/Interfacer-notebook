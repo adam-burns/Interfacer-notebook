{
 "cells": [
  {
   "cell_type": "markdown",
   "id": "88a915f1",
   "metadata": {},
   "source": [
    "This notebook implements the assembly of the libre-solar OSH project:\n",
    "\n",
    "Currently includes only the frame of the enclosure\n"
   ]
  },
  {
   "cell_type": "code",
   "execution_count": null,
   "id": "2899cdd5",
   "metadata": {},
   "outputs": [],
   "source": [
    "# The following should reload if_lib if we change it on disk\n",
    "%load_ext autoreload\n",
    "%aimport if_lib, if_utils, if_dpp, if_graphics\n",
    "%autoreload 1\n",
    "import os\n",
    "import json\n",
    "import random\n",
    "\n",
    "from if_utils import get_filename, show_data, save_traces\n",
    "\n",
    "from if_lib import generate_random_challenge, read_HMAC, read_keypair, get_id_person, get_location_id, \\\n",
    "get_unit_id, get_resource_spec_id, get_resource, get_process, create_event, make_transfer, reduce_resource\n",
    "\n",
    "from if_dpp import trace_query, check_traces, er_before, get_ddp\n",
    "\n",
    "from if_graphics import vis_dpp, make_sankey, consol_trace"
   ]
  },
  {
   "cell_type": "code",
   "execution_count": null,
   "id": "ea0b830e",
   "metadata": {},
   "outputs": [],
   "source": [
    "USE_CASE = 'libre-solar'\n",
    "\n",
    "# What endpoint are we talking to?\n",
    "# debug\n",
    "ENDPOINT = 'http://65.109.11.42:10000/api'\n",
    "# ENDPOINT = 'http://zenflows-debug.interfacer.dyne.org'\n",
    "# staging\n",
    "# ENDPOINT = 'http://65.109.11.42:8000/api'\n",
    "# ENDPOINT = 'https://zenflows-staging.interfacer.dyne.org/api'\n",
    "# testing\n",
    "# ENDPOINT = 'http://65.109.11.42:9000/api'\n",
    "# ENDPOINT = 'https://zenflows-test.interfacer.dyne.org/api'\n",
    "\n",
    "USERS_FILE = get_filename('cred_users.json', ENDPOINT, USE_CASE)\n",
    "LOCS_FILE = get_filename('loc_users.json', ENDPOINT, USE_CASE)\n",
    "UNITS_FILE = get_filename('units_data.json', ENDPOINT, USE_CASE)\n",
    "SPECS_FILE = get_filename('res_spec_data.json', ENDPOINT, USE_CASE)"
   ]
  },
  {
   "cell_type": "code",
   "execution_count": null,
   "id": "b8bc7c31",
   "metadata": {},
   "outputs": [],
   "source": [
    "# Read or define user data that is going to be used in the GraphQL calls\n",
    "\n",
    "# create data structure to hold processes\n",
    "process_data = {}\n",
    "\n",
    "# create data structures to hold resources and events (possibly to compare results from track and trace)\n",
    "res_data = {}\n",
    "event_seq = []\n",
    "\n",
    "\n",
    "if os.path.isfile(USERS_FILE):\n",
    "    with open(USERS_FILE,'r') as f:\n",
    "        users_data = json.loads(f.read())\n",
    "    print(\"Credentials file available for users\")\n",
    "else:\n",
    "    users_data = {}\n",
    "    users_data['one'] = {\n",
    "      \"userChallenges\": {\n",
    "        \"whereParentsMet\": \"London\",\n",
    "        \"nameFirstPet\": \"Fuffy\",\n",
    "        \"nameFirstTeacher\": \"Jim\",\n",
    "        \"whereHomeTown\": \"Paris\",\n",
    "        \"nameMotherMaid\": \"Wright\"\n",
    "      },\n",
    "      \"name\": \"User One\",\n",
    "      \"username\": \"user1_username\",\n",
    "      \"email\": \"user1@example.org\",\n",
    "      \"note\": \"me.user1.org\"\n",
    "    }\n",
    "    users_data['two'] = {\n",
    "        \"userChallenges\": {\n",
    "            \"whereParentsMet\":\"Amsterdam\",\n",
    "            \"nameFirstPet\":\"Toby\",\n",
    "            \"nameFirstTeacher\":\"Juliet\",\n",
    "            \"whereHomeTown\":\"Rome\",\n",
    "            \"nameMotherMaid\":\"Banks\"\n",
    "        },\n",
    "        \"name\": \"User Two\",\n",
    "        \"username\": \"user2\",\n",
    "        \"email\": \"user2@example.org\",\n",
    "        \"note\" : \"me.user2.org\"\n",
    "    }\n",
    "\n",
    "    with open(USERS_FILE,'w') as f:\n",
    "        json.dump(users_data, f)\n",
    "\n",
    "\n",
    "if os.path.isfile(LOCS_FILE):\n",
    "    with open(LOCS_FILE,'r') as f:\n",
    "        locs_data = json.loads(f.read())\n",
    "    print(\"Location file available\")\n",
    "else:\n",
    "    locs_data = {}\n",
    "    locs_data['one'] = {\n",
    "        \"name\": \"FabCity Hamburg\",\n",
    "        \"lat\" : 53.54651094994547,\n",
    "        \"long\": 9.996357255816038,\n",
    "        \"addr\": \"Zippelhaus 5A, 20457 Hamburg, Germany\",\n",
    "        \"note\": \"location.user1.org\"\n",
    "    }\n",
    "    locs_data['two'] = {\n",
    "        \"name\": \"Fab City Hamburg\",\n",
    "        \"lat\" : 53.54651094994547,\n",
    "        \"long\" : 9.996357255816038,\n",
    "        \"addr\" : \"Zippelhaus 5A, 20457 Hamburg, Germany\",\n",
    "        \"note\": \"location.user2.org\"\n",
    "    }\n",
    "    with open(LOCS_FILE,'w') as f:\n",
    "        json.dump(locs_data, f)\n",
    "\n",
    "\n",
    "if os.path.isfile(UNITS_FILE):\n",
    "    with open(UNITS_FILE,'r') as f:\n",
    "        units_data = json.loads(f.read())\n",
    "    print(f\"Unit file available\")\n",
    "else:\n",
    "    units_data = {}\n",
    "#     with open(file,'w') as f:\n",
    "#         json.dump(units_data, f)\n",
    "\n",
    "\n",
    "\n",
    "if os.path.isfile(SPECS_FILE):\n",
    "    with open(SPECS_FILE,'r') as f:\n",
    "        res_spec_data = json.loads(f.read())\n",
    "    print(f\"Resource Spec file available\")\n",
    "else:\n",
    "    res_spec_data = {}\n",
    "  "
   ]
  },
  {
   "cell_type": "code",
   "execution_count": null,
   "id": "5bf379da",
   "metadata": {},
   "outputs": [],
   "source": [
    "# Read HMAC or get it from the server\n",
    "read_HMAC(USERS_FILE, users_data, 'one', endpoint=ENDPOINT)\n",
    "read_HMAC(USERS_FILE, users_data, 'two', endpoint=ENDPOINT)"
   ]
  },
  {
   "cell_type": "code",
   "execution_count": null,
   "id": "968e547b",
   "metadata": {
    "scrolled": true
   },
   "outputs": [],
   "source": [
    "# Read the keypair\n",
    "\n",
    "read_keypair(USERS_FILE, users_data, 'one')\n",
    "read_keypair(USERS_FILE, users_data, 'two')"
   ]
  },
  {
   "cell_type": "code",
   "execution_count": null,
   "id": "5f04298a",
   "metadata": {},
   "outputs": [],
   "source": [
    "# read or get id of the person\n",
    "get_id_person(USERS_FILE, users_data, 'one', endpoint=ENDPOINT)\n",
    "get_id_person(USERS_FILE, users_data, 'two', endpoint=ENDPOINT)"
   ]
  },
  {
   "cell_type": "code",
   "execution_count": null,
   "id": "b4898764",
   "metadata": {},
   "outputs": [],
   "source": [
    "# Read of get the location id\n",
    "get_location_id(LOCS_FILE, users_data['one'], locs_data, 'one', endpoint=ENDPOINT)\n",
    "get_location_id(LOCS_FILE, users_data['two'], locs_data, 'two', endpoint=ENDPOINT)"
   ]
  },
  {
   "cell_type": "code",
   "execution_count": null,
   "id": "9df2fe4f",
   "metadata": {},
   "outputs": [],
   "source": [
    "# Get the ids of all units\n",
    "get_unit_id(UNITS_FILE, users_data['two'], units_data, 'piece', 'u_piece', 'om2:one', endpoint=ENDPOINT)\n",
    "get_unit_id(UNITS_FILE, users_data['two'], units_data, 'mass', 'kg', 'om2:kilogram', endpoint=ENDPOINT)\n",
    "get_unit_id(UNITS_FILE, users_data['two'], units_data, 'volume', 'lt', 'om2:litre', endpoint=ENDPOINT)\n",
    "get_unit_id(UNITS_FILE, users_data['one'], units_data, 'time', 'h', 'om2:hour', endpoint=ENDPOINT)\n"
   ]
  },
  {
   "cell_type": "code",
   "execution_count": null,
   "id": "cd1fd6e8",
   "metadata": {},
   "outputs": [],
   "source": [
    "# RESOURCE SPECIFICATIONS\n",
    "# Read all the resource specifications\n",
    "name = 'Allen_Key'\n",
    "note = 'Specification for tool for assembly'\n",
    "classification = 'A resource specification URI'\n",
    "default_unit_id = units_data['piece']['id']\n",
    "get_resource_spec_id(SPECS_FILE, users_data['two'], res_spec_data, name, note, classification, default_unit_id, endpoint=ENDPOINT)\n",
    "\n",
    "name = 'M6nutplate'\n",
    "note = 'Specification for screw'\n",
    "classification = 'A resource specification URI'\n",
    "default_unit_id = units_data['piece']['id']\n",
    "get_resource_spec_id(SPECS_FILE, users_data['two'], res_spec_data, name, note, classification, default_unit_id, endpoint=ENDPOINT)\n",
    "\n",
    "name = 'M6x12'\n",
    "note = 'Specification for screw'\n",
    "classification = 'A resource specification URI'\n",
    "default_unit_id = units_data['piece']['id']\n",
    "get_resource_spec_id(SPECS_FILE, users_data['two'], res_spec_data, name, note, classification, default_unit_id, endpoint=ENDPOINT)\n",
    "\n",
    "name = 'M6x25cyl'\n",
    "note = 'Specification for screw'\n",
    "classification = 'A resource specification URI'\n",
    "default_unit_id = units_data['mass']['id']\n",
    "get_resource_spec_id(SPECS_FILE, users_data['two'], res_spec_data, name, note, classification, default_unit_id, endpoint=ENDPOINT)\n",
    "\n",
    "name = 'RAConnector'\n",
    "note = 'Specification for connector'\n",
    "classification = 'A resource specification URI'\n",
    "default_unit_id = units_data['piece']['id']\n",
    "get_resource_spec_id(SPECS_FILE, users_data['two'], res_spec_data, name, note, classification, default_unit_id, endpoint=ENDPOINT)\n",
    "\n",
    "name = 'Tslot16'\n",
    "note = 'Specification for a frame slot'\n",
    "classification = 'A resource specification URI'\n",
    "default_unit_id = units_data['piece']['id']\n",
    "get_resource_spec_id(SPECS_FILE, users_data['two'], res_spec_data, name, note, classification, default_unit_id, endpoint=ENDPOINT)\n",
    "\n",
    "name = 'Tslot32'\n",
    "note = 'Specification for a frame slot'\n",
    "classification = 'A resource specification URI'\n",
    "default_unit_id = units_data['piece']['id']\n",
    "get_resource_spec_id(SPECS_FILE, users_data['two'], res_spec_data, name, note, classification, default_unit_id, endpoint=ENDPOINT)\n",
    "\n",
    "name = 'Tslot32con'\n",
    "note = 'Specification for a frame slot'\n",
    "classification = 'A resource specification URI'\n",
    "default_unit_id = units_data['piece']['id']\n",
    "get_resource_spec_id(SPECS_FILE, users_data['two'], res_spec_data, name, note, classification, default_unit_id, endpoint=ENDPOINT)\n",
    "\n",
    "name = 'assembly_construction'\n",
    "note = 'Specification for Frame assembly work'\n",
    "classification = 'A resource specification URI'\n",
    "default_unit_id = units_data['time']['id']\n",
    "get_resource_spec_id(SPECS_FILE, users_data['two'], res_spec_data, name, note, classification, default_unit_id, endpoint=ENDPOINT)\n",
    "\n",
    "name = 'upper_frame'\n",
    "note = 'Specification for upperframe'\n",
    "classification = 'A resource specification URI'\n",
    "default_unit_id = units_data['piece']['id']\n",
    "get_resource_spec_id(SPECS_FILE, users_data['two'], res_spec_data, name, note, classification, default_unit_id, endpoint=ENDPOINT)\n",
    "\n",
    "name = 'lower_frame'\n",
    "note = 'Specification for lowerframe'\n",
    "classification = 'A resource specification URI'\n",
    "default_unit_id = units_data['piece']['id']\n",
    "get_resource_spec_id(SPECS_FILE, users_data['two'], res_spec_data, name, note, classification, default_unit_id, endpoint=ENDPOINT)\n",
    "\n",
    "name = 'pillar'\n",
    "note = 'Specification for pillar'\n",
    "classification = 'A resource specification URI'\n",
    "default_unit_id = units_data['piece']['id']\n",
    "get_resource_spec_id(SPECS_FILE, users_data['two'], res_spec_data, name, note, classification, default_unit_id, endpoint=ENDPOINT)\n",
    "\n",
    "\n",
    "# **** OLD isogown use case Read all the resource specifications\n",
    "# TODO remove\n",
    "name = 'soap'\n",
    "note = 'Specification for soap to be used to wash the gowns'\n",
    "classification = 'https://www.wikidata.org/wiki/Q34396'\n",
    "default_unit_id = units_data['mass']['id']\n",
    "get_resource_spec_id(SPECS_FILE, users_data['two'], res_spec_data, name, note, classification, default_unit_id, endpoint=ENDPOINT)\n",
    "\n",
    "name = 'water'\n",
    "note = 'Specification for water to be used to wash the gowns'\n",
    "classification = 'https://www.wikidata.org/wiki/Q283'\n",
    "default_unit_id = units_data['volume']['id']\n",
    "get_resource_spec_id(SPECS_FILE, users_data['two'], res_spec_data, name, note, classification, default_unit_id, endpoint=ENDPOINT)\n",
    "\n",
    "name = 'cotton'\n",
    "note = 'Specification for cotton to be used to sew the gowns'\n",
    "classification = 'https://www.wikidata.org/wiki/Q11457'\n",
    "default_unit_id = units_data['mass']['id']\n",
    "get_resource_spec_id(SPECS_FILE, users_data['two'], res_spec_data, name, note, classification, default_unit_id, endpoint=ENDPOINT)\n",
    "\n",
    "name = 'gown'\n",
    "note = 'Specification for gowns'\n",
    "classification = 'https://www.wikidata.org/wiki/Q89990310'\n",
    "default_unit_id = units_data['piece']['id']\n",
    "get_resource_spec_id(SPECS_FILE, users_data['two'], res_spec_data, name, note, classification, default_unit_id, endpoint=ENDPOINT)\n",
    "\n",
    "name = 'surgical_operation'\n",
    "note = 'Specification for surgical operations'\n",
    "classification = 'https://www.wikidata.org/wiki/Q600236'\n",
    "default_unit_id = units_data['time']['id']\n",
    "get_resource_spec_id(SPECS_FILE, users_data['two'], res_spec_data, name, note, classification, default_unit_id, endpoint=ENDPOINT)"
   ]
  },
  {
   "cell_type": "code",
   "execution_count": null,
   "id": "36377061",
   "metadata": {},
   "outputs": [],
   "source": [
    "# RESOURCES\n",
    "# We create the resources that will not be saved to file as it is assumed they are recreated at each run\n",
    "\n",
    "res_name = 'Allen_Key'\n",
    "amount = 1\n",
    "\n",
    "get_resource(res_data, res_spec_data, res_name, users_data['two'], event_seq, amount, endpoint=ENDPOINT)"
   ]
  },
  {
   "cell_type": "code",
   "execution_count": null,
   "id": "1f2fb82f",
   "metadata": {
    "tags": []
   },
   "outputs": [],
   "source": [
    "res_name = 'M6nutplate'\n",
    "amount = 50\n",
    "\n",
    "get_resource(res_data, res_spec_data, res_name, users_data['two'], event_seq, amount, endpoint=ENDPOINT)"
   ]
  },
  {
   "cell_type": "code",
   "execution_count": null,
   "id": "70984ea1-c9da-40b8-b35a-5f9a86b51c0f",
   "metadata": {
    "tags": []
   },
   "outputs": [],
   "source": [
    "res_name = 'M6x12'\n",
    "amount = 50\n",
    "\n",
    "get_resource(res_data, res_spec_data, res_name, users_data['two'], event_seq, amount, endpoint=ENDPOINT)"
   ]
  },
  {
   "cell_type": "code",
   "execution_count": null,
   "id": "1b8aae99-79a8-4fde-bec3-061703323fda",
   "metadata": {
    "tags": []
   },
   "outputs": [],
   "source": [
    "res_name = 'M6x25cyl'\n",
    "amount = 50\n",
    "\n",
    "get_resource(res_data, res_spec_data, res_name, users_data['two'], event_seq, amount, endpoint=ENDPOINT)"
   ]
  },
  {
   "cell_type": "code",
   "execution_count": null,
   "id": "989574c5-601a-465e-baf9-51ad271837dc",
   "metadata": {
    "tags": []
   },
   "outputs": [],
   "source": [
    "res_name = 'RAConnector'\n",
    "amount = 50\n",
    "\n",
    "get_resource(res_data, res_spec_data, res_name, users_data['two'], event_seq, amount, endpoint=ENDPOINT)"
   ]
  },
  {
   "cell_type": "code",
   "execution_count": null,
   "id": "61e1eee9-c130-49e8-a431-547514e9702d",
   "metadata": {
    "tags": []
   },
   "outputs": [],
   "source": [
    "res_name = 'Tslot16'\n",
    "amount = 50\n",
    "\n",
    "get_resource(res_data, res_spec_data, res_name, users_data['two'], event_seq, amount, endpoint=ENDPOINT)"
   ]
  },
  {
   "cell_type": "code",
   "execution_count": null,
   "id": "d3c0dcde-5bd8-40e0-8312-1b02cbbe5aea",
   "metadata": {
    "tags": []
   },
   "outputs": [],
   "source": [
    "res_name = 'Tslot32'\n",
    "amount = 50\n",
    "\n",
    "get_resource(res_data, res_spec_data, res_name, users_data['two'], event_seq, amount, endpoint=ENDPOINT)"
   ]
  },
  {
   "cell_type": "code",
   "execution_count": null,
   "id": "48eb866b-221b-46a5-bd01-2e082e300cc6",
   "metadata": {
    "tags": []
   },
   "outputs": [],
   "source": [
    "res_name = 'Tslot32con'\n",
    "amount = 50\n",
    "\n",
    "get_resource(res_data, res_spec_data, res_name, users_data['two'], event_seq, amount, endpoint=ENDPOINT)"
   ]
  },
  {
   "cell_type": "code",
   "execution_count": null,
   "id": "ed2b15ba",
   "metadata": {},
   "outputs": [],
   "source": [
    "# PROCESSES\n",
    "# Create the process that wraps the assembly of the upper frame\n",
    "# print(process_data)\n",
    "process_name = 'UpperFrame'\n",
    "user_data = users_data['one']\n",
    "note = f\"Assembly process {process_name} defined by {user_data['name']}\"\n",
    "\n",
    "get_process(process_name, process_data, note, user_data, endpoint=ENDPOINT)\n",
    "# print(process_data)"
   ]
  },
  {
   "cell_type": "code",
   "execution_count": null,
   "id": "7c1c7f42-51ef-464c-beb4-a752ac1e134e",
   "metadata": {},
   "outputs": [],
   "source": [
    "# PROCESSES\n",
    "# Create the process that wraps the assembly of the upper frame\n",
    "# print(process_data)\n",
    "process_name = 'UpperFrame_1'\n",
    "user_data = users_data['one']\n",
    "note = f\"Assembly process {process_name} defined by {user_data['name']}\"\n",
    "\n",
    "get_process(process_name, process_data, note, user_data, endpoint=ENDPOINT)\n",
    "# print(process_data)"
   ]
  },
  {
   "cell_type": "code",
   "execution_count": null,
   "id": "11dde7fd-5088-4717-8335-ca27c96f4c19",
   "metadata": {},
   "outputs": [],
   "source": [
    "# PROCESSES\n",
    "# Create the process that wraps the assembly of the upper frame\n",
    "# print(process_data)\n",
    "process_name = 'UpperFrame_2'\n",
    "user_data = users_data['one']\n",
    "note = f\"Assembly process {process_name} defined by {user_data['name']}\"\n",
    "\n",
    "get_process(process_name, process_data, note, user_data, endpoint=ENDPOINT)\n",
    "# print(process_data)"
   ]
  },
  {
   "cell_type": "code",
   "execution_count": null,
   "id": "37505a0c-13dc-4205-914c-5caef20e6444",
   "metadata": {},
   "outputs": [],
   "source": [
    "# PROCESSES\n",
    "# Create the process that wraps the assembly of the upper frame\n",
    "# print(process_data)\n",
    "process_name = 'UpperFrame_3'\n",
    "user_data = users_data['one']\n",
    "note = f\"Assembly process {process_name} defined by {user_data['name']}\"\n",
    "\n",
    "get_process(process_name, process_data, note, user_data, endpoint=ENDPOINT)\n",
    "# print(process_data)"
   ]
  },
  {
   "cell_type": "code",
   "execution_count": null,
   "id": "16531b41-8711-4e41-ae1e-b38314ce31ec",
   "metadata": {},
   "outputs": [],
   "source": [
    "# PROCESSES\n",
    "# Create the process that wraps the assembly of the upper frame\n",
    "# print(process_data)\n",
    "process_name = 'UpperFrame_4'\n",
    "user_data = users_data['one']\n",
    "note = f\"Assembly process {process_name} defined by {user_data['name']}\"\n",
    "\n",
    "get_process(process_name, process_data, note, user_data, endpoint=ENDPOINT)\n",
    "# print(process_data)"
   ]
  },
  {
   "cell_type": "code",
   "execution_count": null,
   "id": "bf522379-e91f-4735-9a5c-020a605d0ef1",
   "metadata": {},
   "outputs": [],
   "source": [
    "# PROCESSES\n",
    "# Create the process that wraps the assembly of the upper frame\n",
    "# print(process_data)\n",
    "process_name = 'LowerFrame'\n",
    "user_data = users_data['one']\n",
    "note = f\"Assembly process {process_name} defined by {user_data['name']}\"\n",
    "\n",
    "get_process(process_name, process_data, note, user_data, endpoint=ENDPOINT)\n",
    "# print(process_data)"
   ]
  },
  {
   "cell_type": "code",
   "execution_count": null,
   "id": "843589b9-d2c8-43b4-8009-ff88537371cd",
   "metadata": {},
   "outputs": [],
   "source": [
    "# PROCESSES\n",
    "# Create the process that wraps the assembly of the upper frame\n",
    "# print(process_data)\n",
    "process_name = 'LowerFrame_1'\n",
    "user_data = users_data['one']\n",
    "note = f\"Assembly process {process_name} defined by {user_data['name']}\"\n",
    "\n",
    "get_process(process_name, process_data, note, user_data, endpoint=ENDPOINT)\n",
    "# print(process_data)"
   ]
  },
  {
   "cell_type": "code",
   "execution_count": null,
   "id": "e653c3de-4b2f-4d49-be73-ad7c2e7848f5",
   "metadata": {},
   "outputs": [],
   "source": [
    "# PROCESSES\n",
    "# Create the process that wraps the assembly of the upper frame\n",
    "# print(process_data)\n",
    "process_name = 'LowerFrame_2'\n",
    "user_data = users_data['one']\n",
    "note = f\"Assembly process {process_name} defined by {user_data['name']}\"\n",
    "\n",
    "get_process(process_name, process_data, note, user_data, endpoint=ENDPOINT)\n",
    "# print(process_data)"
   ]
  },
  {
   "cell_type": "code",
   "execution_count": null,
   "id": "30b06dae-2d57-419e-bc65-6837c5d84349",
   "metadata": {},
   "outputs": [],
   "source": [
    "# PROCESSES\n",
    "# Create the process that wraps the assembly of the upper frame\n",
    "# print(process_data)\n",
    "process_name = 'LowerFrame_3'\n",
    "user_data = users_data['one']\n",
    "note = f\"Assembly process {process_name} defined by {user_data['name']}\"\n",
    "\n",
    "get_process(process_name, process_data, note, user_data, endpoint=ENDPOINT)\n",
    "# print(process_data)"
   ]
  },
  {
   "cell_type": "code",
   "execution_count": null,
   "id": "d7d76d04-8310-40db-b886-91c448313629",
   "metadata": {},
   "outputs": [],
   "source": [
    "# PROCESSES\n",
    "# Create the process that wraps the assembly of the upper frame\n",
    "# print(process_data)\n",
    "process_name = 'LowerFrame_4'\n",
    "user_data = users_data['one']\n",
    "note = f\"Assembly process {process_name} defined by {user_data['name']}\"\n",
    "\n",
    "get_process(process_name, process_data, note, user_data, endpoint=ENDPOINT)\n",
    "# print(process_data)"
   ]
  },
  {
   "cell_type": "code",
   "execution_count": null,
   "id": "26d263b7-5bf1-4b0c-b6aa-da2ac7f99a05",
   "metadata": {
    "tags": []
   },
   "outputs": [],
   "source": [
    "# PROCESSES\n",
    "# Create the process that wraps the assembly of the Pillar\n",
    "# print(process_data)\n",
    "process_name = 'Pillar'\n",
    "user_data = users_data['one']\n",
    "note = f\"Assembly process {process_name} defined by {user_data['name']}\"\n",
    "\n",
    "get_process(process_name, process_data, note, user_data, endpoint=ENDPOINT)\n",
    "# print(process_data)"
   ]
  },
  {
   "cell_type": "code",
   "execution_count": null,
   "id": "5d4eacac-fd91-4c0e-988f-64f7c7b657f4",
   "metadata": {
    "tags": []
   },
   "outputs": [],
   "source": [
    "# PROCESSES\n",
    "# Create the process that wraps the assembly of the Pillar\n",
    "# print(process_data)\n",
    "process_name = 'Pillar_1'\n",
    "user_data = users_data['one']\n",
    "note = f\"Assembly process {process_name} defined by {user_data['name']}\"\n",
    "\n",
    "get_process(process_name, process_data, note, user_data, endpoint=ENDPOINT)\n",
    "# print(process_data)"
   ]
  },
  {
   "cell_type": "code",
   "execution_count": null,
   "id": "fd43d33a-d02b-4108-90ac-dc1ed91a8901",
   "metadata": {
    "tags": []
   },
   "outputs": [],
   "source": [
    "# PROCESSES\n",
    "# Create the process that wraps the assembly of the Pillar\n",
    "# print(process_data)\n",
    "process_name = 'Pillar_2'\n",
    "user_data = users_data['one']\n",
    "note = f\"Assembly process {process_name} defined by {user_data['name']}\"\n",
    "\n",
    "get_process(process_name, process_data, note, user_data, endpoint=ENDPOINT)\n",
    "# print(process_data)"
   ]
  },
  {
   "cell_type": "code",
   "execution_count": null,
   "id": "a4b248c8-91a0-4149-aba9-34d7014e6fbf",
   "metadata": {
    "tags": []
   },
   "outputs": [],
   "source": [
    "# PROCESSES\n",
    "# Create the process that wraps the assembly of the Pillar\n",
    "# print(process_data)\n",
    "process_name = 'First_Pillar_1'\n",
    "user_data = users_data['one']\n",
    "note = f\"Assembly process {process_name} defined by {user_data['name']}\"\n",
    "\n",
    "get_process(process_name, process_data, note, user_data, endpoint=ENDPOINT)\n",
    "# print(process_data)"
   ]
  },
  {
   "cell_type": "code",
   "execution_count": null,
   "id": "dac37661-ce31-48ff-bcac-ca097d561e59",
   "metadata": {
    "tags": []
   },
   "outputs": [],
   "source": [
    "# PROCESSES\n",
    "# Create the process that wraps the assembly of the Pillar\n",
    "# print(process_data)\n",
    "process_name = 'First_Pillar_2'\n",
    "user_data = users_data['one']\n",
    "note = f\"Assembly process {process_name} defined by {user_data['name']}\"\n",
    "\n",
    "get_process(process_name, process_data, note, user_data, endpoint=ENDPOINT)\n",
    "# print(process_data)"
   ]
  },
  {
   "cell_type": "code",
   "execution_count": null,
   "id": "5930734c-a438-4382-b38f-3d5dd12c610e",
   "metadata": {
    "tags": []
   },
   "outputs": [],
   "source": [
    "# PROCESSES\n",
    "# Create the process that wraps the assembly of the Pillar\n",
    "# print(process_data)\n",
    "process_name = 'Second_Pillar_1'\n",
    "user_data = users_data['one']\n",
    "note = f\"Assembly process {process_name} defined by {user_data['name']}\"\n",
    "\n",
    "get_process(process_name, process_data, note, user_data, endpoint=ENDPOINT)\n",
    "# print(process_data)"
   ]
  },
  {
   "cell_type": "code",
   "execution_count": null,
   "id": "176be86d-a257-4aa0-88bd-14a3ff8a360d",
   "metadata": {
    "tags": []
   },
   "outputs": [],
   "source": [
    "# PROCESSES\n",
    "# Create the process that wraps the assembly of the Pillar\n",
    "# print(process_data)\n",
    "process_name = 'Second_Pillar_2'\n",
    "user_data = users_data['one']\n",
    "note = f\"Assembly process {process_name} defined by {user_data['name']}\"\n",
    "\n",
    "get_process(process_name, process_data, note, user_data, endpoint=ENDPOINT)\n",
    "# print(process_data)"
   ]
  },
  {
   "cell_type": "code",
   "execution_count": null,
   "id": "ed2176e1-f65e-4a0e-b6c6-ad653dd9b996",
   "metadata": {
    "tags": []
   },
   "outputs": [],
   "source": [
    "# PROCESSES\n",
    "# Create the process that wraps the assembly of the Pillar\n",
    "# print(process_data)\n",
    "process_name = 'Third_Pillar_1'\n",
    "user_data = users_data['one']\n",
    "note = f\"Assembly process {process_name} defined by {user_data['name']}\"\n",
    "\n",
    "get_process(process_name, process_data, note, user_data, endpoint=ENDPOINT)\n",
    "# print(process_data)"
   ]
  },
  {
   "cell_type": "code",
   "execution_count": null,
   "id": "a46babbf-dd75-4ae2-9fb0-a8796b98ba9b",
   "metadata": {
    "tags": []
   },
   "outputs": [],
   "source": [
    "# PROCESSES\n",
    "# Create the process that wraps the assembly of the Pillar\n",
    "# print(process_data)\n",
    "process_name = 'Third_Pillar_2'\n",
    "user_data = users_data['one']\n",
    "note = f\"Assembly process {process_name} defined by {user_data['name']}\"\n",
    "\n",
    "get_process(process_name, process_data, note, user_data, endpoint=ENDPOINT)\n",
    "# print(process_data)"
   ]
  },
  {
   "cell_type": "code",
   "execution_count": null,
   "id": "402e5eaf-a40d-4917-a0e2-359233766a45",
   "metadata": {
    "tags": []
   },
   "outputs": [],
   "source": [
    "# PROCESSES\n",
    "# Create the process that wraps the assembly of the Pillar\n",
    "# print(process_data)\n",
    "process_name = 'Forth_Pillar_1'\n",
    "user_data = users_data['one']\n",
    "note = f\"Assembly process {process_name} defined by {user_data['name']}\"\n",
    "\n",
    "get_process(process_name, process_data, note, user_data, endpoint=ENDPOINT)\n",
    "# print(process_data)"
   ]
  },
  {
   "cell_type": "code",
   "execution_count": null,
   "id": "bb07d4a9-db04-4514-b739-aa4d72b16deb",
   "metadata": {
    "tags": []
   },
   "outputs": [],
   "source": [
    "# PROCESSES\n",
    "# Create the process that wraps the assembly of the Pillar\n",
    "# print(process_data)\n",
    "process_name = 'Forth_Pillar_2'\n",
    "user_data = users_data['one']\n",
    "note = f\"Assembly process {process_name} defined by {user_data['name']}\"\n",
    "\n",
    "get_process(process_name, process_data, note, user_data, endpoint=ENDPOINT)\n",
    "# print(process_data)"
   ]
  },
  {
   "cell_type": "code",
   "execution_count": null,
   "id": "609b9864",
   "metadata": {
    "scrolled": true
   },
   "outputs": [],
   "source": [
    "# UpperFrame 1\n",
    "# Input event 1\n",
    "# Define input consume Tslot32con event for UpperFrame Assembly: \n",
    "action = 'consume'\n",
    "event_note='Input consume Tslot32con event for Upper Frame Assembly'\n",
    "amount = 1\n",
    "cur_pros = process_data['UpperFrame_1']\n",
    "cur_res = res_data['Tslot32con_res']\n",
    "\n",
    "event_id, ts = create_event(users_data['two'], action, event_note, amount=amount, process=cur_pros, \\\n",
    "                            res_spec_data=res_spec_data, existing_res=cur_res, endpoint=ENDPOINT)\n",
    "\n",
    "event_seq.append({'ts': ts, 'event_id':event_id, 'action' : action, 'res_name': cur_res['name'], 'res': cur_res['id']})\n"
   ]
  },
  {
   "cell_type": "code",
   "execution_count": null,
   "id": "8a79c3bb-95eb-4e84-86c9-0a20e3db7e6e",
   "metadata": {
    "scrolled": true
   },
   "outputs": [],
   "source": [
    "# UpperFrame 1\n",
    "# Input event 2\n",
    "# Define input consume Tslot16 event for UpperFrame Assembly: \n",
    "action = 'consume'\n",
    "event_note='Input consume Tslot16 event for Upper Frame Assembly'\n",
    "amount = 1\n",
    "cur_pros = process_data['UpperFrame_1']\n",
    "cur_res = res_data['Tslot16_res']\n",
    "\n",
    "event_id, ts = create_event(users_data['two'], action, event_note, amount=amount, process=cur_pros, \\\n",
    "                            res_spec_data=res_spec_data, existing_res=cur_res, endpoint=ENDPOINT)\n",
    "\n",
    "event_seq.append({'ts': ts, 'event_id':event_id, 'action' : action, 'res_name': cur_res['name'], 'res': cur_res['id']})\n"
   ]
  },
  {
   "cell_type": "code",
   "execution_count": null,
   "id": "96ca05de-2a24-47f3-acff-8b52762c838c",
   "metadata": {
    "scrolled": true
   },
   "outputs": [],
   "source": [
    "# UpperFrame 1\n",
    "# Input event 3\n",
    "# Define input consume M6x25cyl event for UpperFrame Assembly: \n",
    "action = 'consume'\n",
    "event_note='Input consume M6x25cyl event for Upper Frame Assembly'\n",
    "amount = 1\n",
    "cur_pros = process_data['UpperFrame_1']\n",
    "cur_res = res_data['M6x25cyl_res']\n",
    "\n",
    "event_id, ts = create_event(users_data['two'], action, event_note, amount=amount, process=cur_pros, \\\n",
    "                            res_spec_data=res_spec_data, existing_res=cur_res, endpoint=ENDPOINT)\n",
    "\n",
    "event_seq.append({'ts': ts, 'event_id':event_id, 'action' : action, 'res_name': cur_res['name'], 'res': cur_res['id']})\n"
   ]
  },
  {
   "cell_type": "code",
   "execution_count": null,
   "id": "9aa7c4f6-7a0a-445d-8a06-24d8ad31fbc4",
   "metadata": {
    "scrolled": true
   },
   "outputs": [],
   "source": [
    "# UpperFrame 1\n",
    "# Input event 4\n",
    "# Define input use Allen Key for UpperFrame Assembly: \n",
    "action = 'use'\n",
    "event_note='Input use Allen Key event for Upper Frame Assembly'\n",
    "amount = 1\n",
    "cur_pros = process_data['UpperFrame_1']\n",
    "cur_res = res_data['Allen_Key_res']\n",
    "\n",
    "#####\n",
    "effort_spec = {}\n",
    "effort_spec['unit_id'] = res_spec_data['assembly_construction']['defaultUnit']\n",
    "# effort_spec['spec_id'] = res_spec_data['assembly_construction']['id']\n",
    "effort_spec['amount'] = 0.03\n",
    "\n",
    "\n",
    "event_id, ts = create_event(users_data['two'], action, event_note, amount=amount, process=cur_pros, \\\n",
    "                 res_spec_data=res_spec_data, existing_res=cur_res, effort_spec=effort_spec, endpoint=ENDPOINT)\n",
    "\n",
    "event_seq.append({'ts': ts, 'event_id':event_id, 'action' : action, 'res_name': cur_res['name'], 'res': cur_res['id']})\n"
   ]
  },
  {
   "cell_type": "code",
   "execution_count": null,
   "id": "d871dcb5-ef11-471b-8dfa-cd75d0f33333",
   "metadata": {
    "scrolled": true
   },
   "outputs": [],
   "source": [
    "# UpperFrame 1\n",
    "# Input event 5\n",
    "# Define input event work with using Allen Key to assemble UpperFrame_1\n",
    "action = 'work'\n",
    "event_note='Make a corner junction between aTslot32con and Tslot16 by a M6x25cyl screw.'\n",
    "amount = 0.05\n",
    "cur_pros = process_data['UpperFrame_1']\n",
    "\n",
    "effort_spec = {}\n",
    "effort_spec['unit_id'] = res_spec_data['assembly_construction']['defaultUnit']\n",
    "effort_spec['spec_id'] = res_spec_data['assembly_construction']['id']\n",
    "effort_spec['amount'] = 0.05\n",
    "\n",
    "\n",
    "event_id, ts = create_event(users_data['one'], action, event_note, amount=amount, process=cur_pros, \\\n",
    "                 res_spec_data=res_spec_data, effort_spec=effort_spec, endpoint=ENDPOINT)\n",
    "\n",
    "event_seq.append({'ts': ts, 'event_id':event_id, 'action' : action, 'res_name': cur_res['name'], 'res': cur_res['id']})\n"
   ]
  },
  {
   "cell_type": "code",
   "execution_count": null,
   "id": "0ee29e01-2992-4d6e-85bd-6be6da65e1b4",
   "metadata": {},
   "outputs": [],
   "source": [
    "# PROCESS wrap\n",
    "event_seq.append({'ts': ts, 'event_id':cur_pros['id'], 'action' : cur_pros['name'], 'res_name': cur_res['name'], 'res': cur_res['id']})"
   ]
  },
  {
   "cell_type": "code",
   "execution_count": null,
   "id": "64d08ce8-973e-4d39-8220-474c620509ee",
   "metadata": {
    "scrolled": true
   },
   "outputs": [],
   "source": [
    "# UpperFrame 1\n",
    "# Output event 1\n",
    "# Define output event produce for UpperFrame\n",
    "action = 'produce'\n",
    "event_note='produce UpperFrame'\n",
    "amount = 1\n",
    "cur_pros = process_data['UpperFrame_1']\n",
    "\n",
    "res_data['upper_frame_res'] = {\n",
    "    \"res_ref_id\": f'upper_frame-{random.randint(0, 10000)}',\n",
    "    \"name\": 'upper_frame',\n",
    "    \"spec_id\": res_spec_data['upper_frame']['id']\n",
    "}\n",
    "cur_res = res_data['upper_frame_res']\n",
    "\n",
    "\n",
    "event_id, ts = create_event(users_data['two'], action, event_note, amount=amount, process=cur_pros, \\\n",
    "                 res_spec_data=res_spec_data, new_res=cur_res, endpoint=ENDPOINT)\n",
    "\n",
    "event_seq.append({'ts': ts, 'event_id':event_id, 'action' : action, 'res_name': cur_res['name'], 'res': cur_res['id']})\n"
   ]
  },
  {
   "cell_type": "code",
   "execution_count": null,
   "id": "06ecd9bc",
   "metadata": {
    "scrolled": true
   },
   "outputs": [],
   "source": [
    "# UpperFrame 2\n",
    "# Input event 1\n",
    "# Define input event accept for UpperFrame 1\n",
    "action = 'accept'\n",
    "event_note='accept UpperFrame to be modified'\n",
    "amount = 1\n",
    "cur_pros = process_data['UpperFrame_2']\n",
    "cur_res = res_data['upper_frame_res']\n",
    "\n",
    "\n",
    "event_id, ts = create_event(users_data['two'], action, event_note, amount=amount, process=cur_pros, \\\n",
    "                 res_spec_data=res_spec_data, existing_res=cur_res, endpoint=ENDPOINT)\n",
    "\n",
    "event_seq.append({'ts': ts, 'event_id':event_id, 'action' : action, 'res_name': cur_res['name'], 'res': cur_res['id']})\n"
   ]
  },
  {
   "cell_type": "code",
   "execution_count": null,
   "id": "d6ec10b4-da7c-4817-abd8-08a4bb68de1e",
   "metadata": {
    "scrolled": true
   },
   "outputs": [],
   "source": [
    "# UpperFrame 2\n",
    "# Input event 2\n",
    "# Define input consume 2 x M6nutplates event for UpperFrame Assembly: \n",
    "action = 'consume'\n",
    "event_note='Input consume 2 x M6nutplate event for Upper Frame Assembly'\n",
    "amount = 2\n",
    "cur_pros = process_data['UpperFrame_2']\n",
    "cur_res = res_data['M6nutplate_res']\n",
    "\n",
    "event_id, ts = create_event(users_data['two'], action, event_note, amount=amount, process=cur_pros, \\\n",
    "                            res_spec_data=res_spec_data, existing_res=cur_res, endpoint=ENDPOINT)\n",
    "\n",
    "event_seq.append({'ts': ts, 'event_id':event_id, 'action' : action, 'res_name': cur_res['name'], 'res': cur_res['id']})\n"
   ]
  },
  {
   "cell_type": "code",
   "execution_count": null,
   "id": "0acf744e-0ab8-489f-9e2a-e7857000d0ae",
   "metadata": {
    "scrolled": true
   },
   "outputs": [],
   "source": [
    "# UpperFrame 2\n",
    "# Input event 3\n",
    "# Define input event work inserting 2 x M6nutplates into the upper and the outer slot of the Tslot16 beam of the Upper Frame\n",
    "action = 'work'\n",
    "event_note='Insert two M6nutplates into the upper and the outer slot of the Tslot16 beam of the Upper Frame.'\n",
    "# amount = 0.05\n",
    "cur_pros = process_data['UpperFrame_2']\n",
    "effort_spec = {}\n",
    "effort_spec['unit_id'] = res_spec_data['assembly_construction']['defaultUnit']\n",
    "effort_spec['spec_id'] = res_spec_data['assembly_construction']['id']\n",
    "effort_spec['amount'] = 0.05\n",
    "\n",
    "event_id, ts = create_event(users_data['one'], action, event_note, amount=amount, process=cur_pros, \\\n",
    "                 res_spec_data=res_spec_data, effort_spec=effort_spec, endpoint=ENDPOINT)\n",
    "\n",
    "event_seq.append({'ts': ts, 'event_id':event_id, 'action' : action, 'res_name': cur_res['name'], 'res': cur_res['id']})\n"
   ]
  },
  {
   "cell_type": "code",
   "execution_count": null,
   "id": "0c637ad9-513c-4c97-a37b-107dc1cf1580",
   "metadata": {},
   "outputs": [],
   "source": [
    "# PROCESS wrap\n",
    "event_seq.append({'ts': ts, 'event_id':cur_pros['id'], 'action' : cur_pros['name'], 'res_name': cur_res['name'], 'res': cur_res['id']})"
   ]
  },
  {
   "cell_type": "code",
   "execution_count": null,
   "id": "dd269384-5f0a-476f-b587-b269cb82edcc",
   "metadata": {
    "scrolled": true
   },
   "outputs": [],
   "source": [
    "# UpperFrame 2\n",
    "# Output event 1\n",
    "# Define output modify Upper Frame\n",
    "action = 'modify'\n",
    "event_note='modify UpperFrame_2'\n",
    "amount = 1\n",
    "cur_pros = process_data['UpperFrame_2']\n",
    "cur_res = res_data['upper_frame_res']\n",
    "\n",
    "\n",
    "event_id, ts = create_event(users_data['two'], action, event_note, amount=amount, process=cur_pros, \\\n",
    "                 res_spec_data=res_spec_data, existing_res=cur_res, endpoint=ENDPOINT)\n",
    "\n",
    "event_seq.append({'ts': ts, 'event_id':event_id, 'action' : action, 'res_name': cur_res['name'], 'res': cur_res['id']})\n"
   ]
  },
  {
   "cell_type": "code",
   "execution_count": null,
   "id": "f660bf25-c9e5-4e96-9fad-67690c148f6d",
   "metadata": {
    "scrolled": true
   },
   "outputs": [],
   "source": [
    "# UpperFrame 3\n",
    "# Input event 1\n",
    "# Define input event accept for UpperFrame 2\n",
    "action = 'accept'\n",
    "event_note='accept UpperFrame to be modified'\n",
    "amount = 1\n",
    "cur_pros = process_data['UpperFrame_3']\n",
    "cur_res = res_data['upper_frame_res']\n",
    "\n",
    "\n",
    "event_id, ts = create_event(users_data['two'], action, event_note, amount=amount, process=cur_pros, \\\n",
    "                 res_spec_data=res_spec_data, existing_res=cur_res, endpoint=ENDPOINT)\n",
    "\n",
    "event_seq.append({'ts': ts, 'event_id':event_id, 'action' : action, 'res_name': cur_res['name'], 'res': cur_res['id']})\n"
   ]
  },
  {
   "cell_type": "code",
   "execution_count": null,
   "id": "4867e7a4-d282-47b2-a7c3-442911a4f6ae",
   "metadata": {
    "scrolled": true
   },
   "outputs": [],
   "source": [
    "# UpperFrame 3\n",
    "# Input event 2\n",
    "# Define input consume 1 x M6nutplate event for UpperFrame Assembly\n",
    "action = 'consume'\n",
    "event_note='Input consume 1 x M6nutplate event for Upper Frame Assembly'\n",
    "amount = 1\n",
    "cur_pros = process_data['UpperFrame_3']\n",
    "cur_res = res_data['M6nutplate_res']\n",
    "\n",
    "event_id, ts = create_event(users_data['two'], action, event_note, amount=amount, process=cur_pros, \\\n",
    "                            res_spec_data=res_spec_data, existing_res=cur_res, endpoint=ENDPOINT)\n",
    "\n",
    "event_seq.append({'ts': ts, 'event_id':event_id, 'action' : action, 'res_name': cur_res['name'], 'res': cur_res['id']})\n"
   ]
  },
  {
   "cell_type": "code",
   "execution_count": null,
   "id": "e019e3f2-5a04-4679-9d0d-e97f524284a0",
   "metadata": {
    "scrolled": true
   },
   "outputs": [],
   "source": [
    "# UpperFrame 3\n",
    "# Input event 3\n",
    "# Define input consume 1 x Tslot16 event for UpperFrame Assembly\n",
    "action = 'consume'\n",
    "event_note='Input consume 1 x Tslot16 event for Upper Frame Assembly'\n",
    "amount = 1\n",
    "cur_pros = process_data['UpperFrame_3']\n",
    "cur_res = res_data['Tslot16_res']\n",
    "\n",
    "event_id, ts = create_event(users_data['two'], action, event_note, amount=amount, process=cur_pros, \\\n",
    "                            res_spec_data=res_spec_data, existing_res=cur_res, endpoint=ENDPOINT)\n",
    "\n",
    "event_seq.append({'ts': ts, 'event_id':event_id, 'action' : action, 'res_name': cur_res['name'], 'res': cur_res['id']})\n",
    "# event_seq.append({'ts': ts, 'event_id':cur_pros['id'], 'action' : cur_pros['name'], 'res_name': cur_res['name'], 'res': cur_res['id']})"
   ]
  },
  {
   "cell_type": "code",
   "execution_count": null,
   "id": "4717ecbf-e802-414f-95fc-4794ca2dac42",
   "metadata": {
    "scrolled": true
   },
   "outputs": [],
   "source": [
    "# UpperFrame 3\n",
    "# Input event 4\n",
    "# Define input consume 1 x M6x25cyl event for UpperFrame Assembly\n",
    "action = 'consume'\n",
    "event_note='Input consume 1 x M6x25cyl event for Upper Frame Assembly'\n",
    "amount = 1\n",
    "cur_pros = process_data['UpperFrame_3']\n",
    "cur_res = res_data['M6x25cyl_res']\n",
    "\n",
    "event_id, ts = create_event(users_data['two'], action, event_note, amount=amount, process=cur_pros, \\\n",
    "                            res_spec_data=res_spec_data, existing_res=cur_res, endpoint=ENDPOINT)\n",
    "\n",
    "event_seq.append({'ts': ts, 'event_id':event_id, 'action' : action, 'res_name': cur_res['name'], 'res': cur_res['id']})\n"
   ]
  },
  {
   "cell_type": "code",
   "execution_count": null,
   "id": "773026e9-e272-4b52-8022-28f1bd730d3f",
   "metadata": {},
   "outputs": [],
   "source": [
    "# UpperFrame 3\n",
    "# Input event 5\n",
    "# Define input use Allen Key for UpperFrame Assembly: \n",
    "action = 'use'\n",
    "event_note='Input use Allen Key event for Upper Frame Assembly'\n",
    "amount = 1\n",
    "cur_pros = process_data['UpperFrame_3']\n",
    "cur_res = res_data['Allen_Key_res']\n",
    "\n",
    "#####\n",
    "effort_spec = {}\n",
    "effort_spec['unit_id'] = res_spec_data['assembly_construction']['defaultUnit']\n",
    "# effort_spec['spec_id'] = res_spec_data['assembly_construction']['id']\n",
    "effort_spec['amount'] = 0.03\n",
    "\n",
    "\n",
    "event_id, ts = create_event(users_data['two'], action, event_note, amount=amount, process=cur_pros, \\\n",
    "                 res_spec_data=res_spec_data, existing_res=cur_res, effort_spec=effort_spec, endpoint=ENDPOINT)\n",
    "\n",
    "event_seq.append({'ts': ts, 'event_id':event_id, 'action' : action, 'res_name': cur_res['name'], 'res': cur_res['id']})\n"
   ]
  },
  {
   "cell_type": "code",
   "execution_count": null,
   "id": "36bfa98e-7232-4dfe-af63-b869596cde11",
   "metadata": {},
   "outputs": [],
   "source": [
    "# UpperFrame 3\n",
    "# Input event 6\n",
    "# Define input event work of the Upper Frame\n",
    "action = 'work'\n",
    "event_note='Before connecting the second Tslot16 beam you must insert a nutplate into the outer slot of the long Tslot32con, which will be enclosed by the M6x25cyl during the corner connection.'\n",
    "# amount = 0.05\n",
    "cur_pros = process_data['UpperFrame_3']\n",
    "effort_spec = {}\n",
    "effort_spec['unit_id'] = res_spec_data['assembly_construction']['defaultUnit']\n",
    "effort_spec['spec_id'] = res_spec_data['assembly_construction']['id']\n",
    "effort_spec['amount'] = 0.05\n",
    "\n",
    "event_id, ts = create_event(users_data['one'], action, event_note, amount=amount, process=cur_pros, \\\n",
    "                 res_spec_data=res_spec_data, effort_spec=effort_spec, endpoint=ENDPOINT)\n",
    "\n",
    "event_seq.append({'ts': ts, 'event_id':event_id, 'action' : action, 'res_name': cur_res['name'], 'res': cur_res['id']})\n"
   ]
  },
  {
   "cell_type": "code",
   "execution_count": null,
   "id": "90494efe-004f-49b0-8290-37263a6065cf",
   "metadata": {},
   "outputs": [],
   "source": [
    "# PROCESS wrap\n",
    "event_seq.append({'ts': ts, 'event_id':cur_pros['id'], 'action' : cur_pros['name'], 'res_name': cur_res['name'], 'res': cur_res['id']})"
   ]
  },
  {
   "cell_type": "code",
   "execution_count": null,
   "id": "e1a1a5e5-0753-4a46-a11c-e4bc3d2aa09a",
   "metadata": {},
   "outputs": [],
   "source": [
    "# UpperFrame 3\n",
    "# Output event 1\n",
    "# Define output modify Upper Frame\n",
    "action = 'modify'\n",
    "event_note='modify UpperFrame_3'\n",
    "amount = 1\n",
    "cur_pros = process_data['UpperFrame_3']\n",
    "cur_res = res_data['upper_frame_res']\n",
    "\n",
    "\n",
    "event_id, ts = create_event(users_data['two'], action, event_note, amount=amount, process=cur_pros, \\\n",
    "                 res_spec_data=res_spec_data, existing_res=cur_res, endpoint=ENDPOINT)\n",
    "\n",
    "event_seq.append({'ts': ts, 'event_id':event_id, 'action' : action, 'res_name': cur_res['name'], 'res': cur_res['id']})\n"
   ]
  },
  {
   "cell_type": "code",
   "execution_count": null,
   "id": "4552182e-5799-440a-9460-735958632d14",
   "metadata": {
    "tags": []
   },
   "outputs": [],
   "source": [
    "# UpperFrame 4\n",
    "# Input event 1\n",
    "# Define input event accept for UpperFrame 2\n",
    "action = 'accept'\n",
    "event_note='accept UpperFrame to be modified'\n",
    "amount = 1\n",
    "cur_pros = process_data['UpperFrame_4']\n",
    "cur_res = res_data['upper_frame_res']\n",
    "\n",
    "\n",
    "event_id, ts = create_event(users_data['two'], action, event_note, amount=amount, process=cur_pros, \\\n",
    "                 res_spec_data=res_spec_data, existing_res=cur_res, endpoint=ENDPOINT)\n",
    "\n",
    "event_seq.append({'ts': ts, 'event_id':event_id, 'action' : action, 'res_name': cur_res['name'], 'res': cur_res['id']})\n"
   ]
  },
  {
   "cell_type": "code",
   "execution_count": null,
   "id": "0e24f151-2021-4a3d-9869-c17bc79ac113",
   "metadata": {},
   "outputs": [],
   "source": [
    "# UpperFrame 4\n",
    "# Input event 2\n",
    "# Define input consume 3 x M6nutplate event for UpperFrame Assembly\n",
    "action = 'consume'\n",
    "event_note='Input consume 3 x M6nutplate event for Upper Frame Assembly'\n",
    "amount = 3\n",
    "cur_pros = process_data['UpperFrame_4']\n",
    "cur_res = res_data['M6nutplate_res']\n",
    "\n",
    "event_id, ts = create_event(users_data['two'], action, event_note, amount=amount, process=cur_pros, \\\n",
    "                            res_spec_data=res_spec_data, existing_res=cur_res, endpoint=ENDPOINT)\n",
    "\n",
    "event_seq.append({'ts': ts, 'event_id':event_id, 'action' : action, 'res_name': cur_res['name'], 'res': cur_res['id']})\n"
   ]
  },
  {
   "cell_type": "code",
   "execution_count": null,
   "id": "73bddaef-6e53-4627-bf30-5c7abe2bc483",
   "metadata": {},
   "outputs": [],
   "source": [
    "# EVENTS\n",
    "# UpperFrame 4\n",
    "# Input event 3\n",
    "# Define input consume Tslot32con event for UpperFrame Assembly: \n",
    "action = 'consume'\n",
    "event_note='Input consume Tslot32con event for Upper Frame Assembly'\n",
    "amount = 2\n",
    "cur_pros = process_data['UpperFrame_4']\n",
    "cur_res = res_data['Tslot32con_res']\n",
    "\n",
    "event_id, ts = create_event(users_data['two'], action, event_note, amount=amount, process=cur_pros, \\\n",
    "                            res_spec_data=res_spec_data, existing_res=cur_res, endpoint=ENDPOINT)\n",
    "\n",
    "event_seq.append({'ts': ts, 'event_id':event_id, 'action' : action, 'res_name': cur_res['name'], 'res': cur_res['id']})\n"
   ]
  },
  {
   "cell_type": "code",
   "execution_count": null,
   "id": "aed7dee6-cd88-4c91-9c57-28d3ec39a5be",
   "metadata": {},
   "outputs": [],
   "source": [
    "# UpperFrame 4\n",
    "# Input event 4\n",
    "# Define input consume M6x25cyl event for UpperFrame Assembly: \n",
    "action = 'consume'\n",
    "event_note='Input consume M6x25cyl event for Upper Frame Assembly'\n",
    "amount = 2\n",
    "cur_pros = process_data['UpperFrame_4']\n",
    "cur_res = res_data['M6x25cyl_res']\n",
    "\n",
    "event_id, ts = create_event(users_data['two'], action, event_note, amount=amount, process=cur_pros, \\\n",
    "                            res_spec_data=res_spec_data, existing_res=cur_res, endpoint=ENDPOINT)\n",
    "\n",
    "event_seq.append({'ts': ts, 'event_id':event_id, 'action' : action, 'res_name': cur_res['name'], 'res': cur_res['id']})\n"
   ]
  },
  {
   "cell_type": "code",
   "execution_count": null,
   "id": "c1d40d79-0380-4559-8987-d901cb680d36",
   "metadata": {},
   "outputs": [],
   "source": [
    "# UpperFrame 4\n",
    "# Input event 5\n",
    "# Define input use Allen Key for UpperFrame Assembly: \n",
    "action = 'use'\n",
    "event_note='Input use Allen Key event for Upper Frame Assembly'\n",
    "amount = 1\n",
    "cur_pros = process_data['UpperFrame_4']\n",
    "cur_res = res_data['Allen_Key_res']\n",
    "\n",
    "#####\n",
    "effort_spec = {}\n",
    "effort_spec['unit_id'] = res_spec_data['assembly_construction']['defaultUnit']\n",
    "# effort_spec['spec_id'] = res_spec_data['assembly_construction']['id']\n",
    "effort_spec['amount'] = 0.03\n",
    "\n",
    "\n",
    "event_id, ts = create_event(users_data['two'], action, event_note, amount=amount, process=cur_pros, \\\n",
    "                 res_spec_data=res_spec_data, existing_res=cur_res, effort_spec=effort_spec, endpoint=ENDPOINT)\n",
    "\n",
    "event_seq.append({'ts': ts, 'event_id':event_id, 'action' : action, 'res_name': cur_res['name'], 'res': cur_res['id']})\n"
   ]
  },
  {
   "cell_type": "code",
   "execution_count": null,
   "id": "b0b76a64-7212-4c55-8b3a-d0684769d681",
   "metadata": {},
   "outputs": [],
   "source": [
    "# UpperFrame 4\n",
    "# Input event 6\n",
    "# Define input use Allen Key for UpperFrame Assembly: \n",
    "action = 'use'\n",
    "event_note='Input use Allen Key event for Upper Frame Assembly'\n",
    "amount = 1\n",
    "cur_pros = process_data['UpperFrame_4']\n",
    "cur_res = res_data['Allen_Key_res']\n",
    "\n",
    "#####\n",
    "effort_spec = {}\n",
    "effort_spec['unit_id'] = res_spec_data['assembly_construction']['defaultUnit']\n",
    "# effort_spec['spec_id'] = res_spec_data['assembly_construction']['id']\n",
    "effort_spec['amount'] = 0.03\n",
    "\n",
    "\n",
    "event_id, ts = create_event(users_data['two'], action, event_note, amount=amount, process=cur_pros, \\\n",
    "                 res_spec_data=res_spec_data, existing_res=cur_res, effort_spec=effort_spec, endpoint=ENDPOINT)\n",
    "\n",
    "event_seq.append({'ts': ts, 'event_id':event_id, 'action' : action, 'res_name': cur_res['name'], 'res': cur_res['id']})\n"
   ]
  },
  {
   "cell_type": "code",
   "execution_count": null,
   "id": "c02fef8b-657b-4e39-a47a-7b17cb03c921",
   "metadata": {
    "tags": []
   },
   "outputs": [],
   "source": [
    "# PROCESS wrap\n",
    "event_seq.append({'ts': ts, 'event_id':cur_pros['id'], 'action' : cur_pros['name'], 'res_name': cur_res['name'], 'res': cur_res['id']})"
   ]
  },
  {
   "cell_type": "code",
   "execution_count": null,
   "id": "accb9df9-ef50-45dd-84d4-3065662565b0",
   "metadata": {},
   "outputs": [],
   "source": [
    "# UpperFrame 4\n",
    "# Output event 1\n",
    "# Define output modify Upper Frame\n",
    "action = 'modify'\n",
    "event_note='modify UpperFrame_4'\n",
    "amount = 1\n",
    "cur_pros = process_data['UpperFrame_4']\n",
    "cur_res = res_data['upper_frame_res']\n",
    "\n",
    "\n",
    "event_id, ts = create_event(users_data['two'], action, event_note, amount=amount, process=cur_pros, \\\n",
    "                 res_spec_data=res_spec_data, existing_res=cur_res, endpoint=ENDPOINT)\n",
    "\n",
    "event_seq.append({'ts': ts, 'event_id':event_id, 'action' : action, 'res_name': cur_res['name'], 'res': cur_res['id']})\n"
   ]
  },
  {
   "cell_type": "code",
   "execution_count": null,
   "id": "9af1f1a5-3bb2-41ea-88ff-a0946d9dee5c",
   "metadata": {
    "scrolled": true
   },
   "outputs": [],
   "source": [
    "# EVENT\n",
    "# LowerFrame 1\n",
    "# Input event 1\n",
    "# Define input consume Tslot32con event for LowerFrame Assembly: \n",
    "action = 'consume'\n",
    "event_note='Input consume Tslot32con event for Lower Frame Assembly'\n",
    "amount = 1\n",
    "cur_pros = process_data['LowerFrame_1']\n",
    "cur_res = res_data['Tslot32con_res']\n",
    "\n",
    "event_id, ts = create_event(users_data['two'], action, event_note, amount=amount, process=cur_pros, \\\n",
    "                            res_spec_data=res_spec_data, existing_res=cur_res, endpoint=ENDPOINT)\n",
    "\n",
    "event_seq.append({'ts': ts, 'event_id':event_id, 'action' : action, 'res_name': cur_res['name'], 'res': cur_res['id']})\n"
   ]
  },
  {
   "cell_type": "code",
   "execution_count": null,
   "id": "7a85ceba-8965-4e1c-9573-e9bcf26057ae",
   "metadata": {
    "scrolled": true,
    "tags": []
   },
   "outputs": [],
   "source": [
    "# LowerFrame 1\n",
    "# Input event 2\n",
    "# Define input consume Tslot16 event for LowerFrame Assembly: \n",
    "action = 'consume'\n",
    "event_note='Input consume Tslot16 event for Lower Frame Assembly'\n",
    "amount = 1\n",
    "cur_pros = process_data['LowerFrame_1']\n",
    "cur_res = res_data['Tslot16_res']\n",
    "\n",
    "event_id, ts = create_event(users_data['two'], action, event_note, amount=amount, process=cur_pros, \\\n",
    "                            res_spec_data=res_spec_data, existing_res=cur_res, endpoint=ENDPOINT)\n",
    "\n",
    "event_seq.append({'ts': ts, 'event_id':event_id, 'action' : action, 'res_name': cur_res['name'], 'res': cur_res['id']})\n"
   ]
  },
  {
   "cell_type": "code",
   "execution_count": null,
   "id": "c467405d-8554-4ac2-9a19-5bb195494953",
   "metadata": {
    "scrolled": true
   },
   "outputs": [],
   "source": [
    "# LowerFrame 1\n",
    "# Input event 3\n",
    "# Define input consume M6x25cyl event for LowerFrame Assembly: \n",
    "action = 'consume'\n",
    "event_note='Input consume M6x25cyl event for Lower Frame Assembly'\n",
    "amount = 1\n",
    "cur_pros = process_data['LowerFrame_1']\n",
    "cur_res = res_data['M6x25cyl_res']\n",
    "\n",
    "event_id, ts = create_event(users_data['two'], action, event_note, amount=amount, process=cur_pros, \\\n",
    "                            res_spec_data=res_spec_data, existing_res=cur_res, endpoint=ENDPOINT)\n",
    "\n",
    "event_seq.append({'ts': ts, 'event_id':event_id, 'action' : action, 'res_name': cur_res['name'], 'res': cur_res['id']})\n"
   ]
  },
  {
   "cell_type": "code",
   "execution_count": null,
   "id": "fd84cd71-81f7-465f-bd2f-6ea2c2a1c4d7",
   "metadata": {
    "scrolled": true
   },
   "outputs": [],
   "source": [
    "# LowerFrame 1\n",
    "# Input event 4\n",
    "# Define input use Allen Key for LowerFrame Assembly: \n",
    "action = 'use'\n",
    "event_note='Input use Allen Key event for Lower Frame Assembly'\n",
    "amount = 1\n",
    "cur_pros = process_data['LowerFrame_1']\n",
    "cur_res = res_data['Allen_Key_res']\n",
    "\n",
    "#####\n",
    "effort_spec = {}\n",
    "effort_spec['unit_id'] = res_spec_data['assembly_construction']['defaultUnit']\n",
    "# effort_spec['spec_id'] = res_spec_data['assembly_construction']['id']\n",
    "effort_spec['amount'] = 0.03\n",
    "\n",
    "\n",
    "event_id, ts = create_event(users_data['two'], action, event_note, amount=amount, process=cur_pros, \\\n",
    "                 res_spec_data=res_spec_data, existing_res=cur_res, effort_spec=effort_spec, endpoint=ENDPOINT)\n",
    "\n",
    "event_seq.append({'ts': ts, 'event_id':event_id, 'action' : action, 'res_name': cur_res['name'], 'res': cur_res['id']})\n"
   ]
  },
  {
   "cell_type": "code",
   "execution_count": null,
   "id": "cb1e2f7d-fd0a-4287-80f6-815ddd471595",
   "metadata": {},
   "outputs": [],
   "source": [
    "# LowerFrame 1\n",
    "# Input event 5\n",
    "# Define input event work of the Lower Frame\n",
    "action = 'work'\n",
    "event_note='Make a corner junction between aTslot32con and Tslot16 by a M6x25cyl screw.'\n",
    "# amount = 0.05\n",
    "cur_pros = process_data['LowerFrame_1']\n",
    "effort_spec = {}\n",
    "effort_spec['unit_id'] = res_spec_data['assembly_construction']['defaultUnit']\n",
    "effort_spec['spec_id'] = res_spec_data['assembly_construction']['id']\n",
    "effort_spec['amount'] = 0.05\n",
    "\n",
    "event_id, ts = create_event(users_data['one'], action, event_note, amount=amount, process=cur_pros, \\\n",
    "                 res_spec_data=res_spec_data, effort_spec=effort_spec, endpoint=ENDPOINT)\n",
    "\n",
    "event_seq.append({'ts': ts, 'event_id':event_id, 'action' : action, 'res_name': cur_res['name'], 'res': cur_res['id']})\n"
   ]
  },
  {
   "cell_type": "code",
   "execution_count": null,
   "id": "03a55321-fb72-425d-ae29-96037e635081",
   "metadata": {
    "tags": []
   },
   "outputs": [],
   "source": [
    "# PROCESS wrap\n",
    "event_seq.append({'ts': ts, 'event_id':cur_pros['id'], 'action' : cur_pros['name'], 'res_name': cur_res['name'], 'res': cur_res['id']})"
   ]
  },
  {
   "cell_type": "code",
   "execution_count": null,
   "id": "0bd9ec74-6ca8-4967-a5c5-30f71a093129",
   "metadata": {
    "scrolled": true
   },
   "outputs": [],
   "source": [
    "# LowerFrame 1\n",
    "# Output event 1\n",
    "# Define output event produce for LowerFrame\n",
    "action = 'produce'\n",
    "event_note='produce LowerFrame'\n",
    "amount = 1\n",
    "cur_pros = process_data['LowerFrame_1']\n",
    "\n",
    "res_data['lower_frame_res'] = {\n",
    "    \"res_ref_id\": f'lower_frame-{random.randint(0, 10000)}',\n",
    "    \"name\": 'lower_frame',\n",
    "    \"spec_id\": res_spec_data['lower_frame']['id']\n",
    "}\n",
    "cur_res = res_data['lower_frame_res']\n",
    "\n",
    "\n",
    "event_id, ts = create_event(users_data['two'], action, event_note, amount=amount, process=cur_pros, \\\n",
    "                 res_spec_data=res_spec_data, new_res=cur_res, endpoint=ENDPOINT)\n",
    "\n",
    "event_seq.append({'ts': ts, 'event_id':event_id, 'action' : action, 'res_name': cur_res['name'], 'res': cur_res['id']})\n"
   ]
  },
  {
   "cell_type": "code",
   "execution_count": null,
   "id": "0d02a940-b3cf-4485-a8d3-79c7362885f9",
   "metadata": {
    "tags": []
   },
   "outputs": [],
   "source": [
    "# LowerFrame 2\n",
    "# Input event 1\n",
    "# Define input event accept for LowerFrame 2\n",
    "action = 'accept'\n",
    "event_note='accept LowerFrame to be modified'\n",
    "amount = 1\n",
    "cur_pros = process_data['LowerFrame_2']\n",
    "cur_res = res_data['lower_frame_res']\n",
    "\n",
    "\n",
    "event_id, ts = create_event(users_data['two'], action, event_note, amount=amount, process=cur_pros, \\\n",
    "                 res_spec_data=res_spec_data, existing_res=cur_res, endpoint=ENDPOINT)\n",
    "\n",
    "event_seq.append({'ts': ts, 'event_id':event_id, 'action' : action, 'res_name': cur_res['name'], 'res': cur_res['id']})\n"
   ]
  },
  {
   "cell_type": "code",
   "execution_count": null,
   "id": "c365fa9b-bcc9-4d76-991d-7ed8b05e6253",
   "metadata": {
    "scrolled": true
   },
   "outputs": [],
   "source": [
    "# LowerFrame 2\n",
    "# Input event 2\n",
    "# Define input consume 2 x M6nutplates event for LowerFrame Assembly: \n",
    "action = 'consume'\n",
    "event_note='Input consume 2 x M6nutplate event for Lower Frame Assembly'\n",
    "amount = 4\n",
    "cur_pros = process_data['LowerFrame_2']\n",
    "cur_res = res_data['M6nutplate_res']\n",
    "\n",
    "event_id, ts = create_event(users_data['two'], action, event_note, amount=amount, process=cur_pros, \\\n",
    "                            res_spec_data=res_spec_data, existing_res=cur_res, endpoint=ENDPOINT)\n",
    "\n",
    "event_seq.append({'ts': ts, 'event_id':event_id, 'action' : action, 'res_name': cur_res['name'], 'res': cur_res['id']})\n"
   ]
  },
  {
   "cell_type": "code",
   "execution_count": null,
   "id": "44de3eda-5a26-4151-ab5f-fadd179b6ad9",
   "metadata": {
    "tags": []
   },
   "outputs": [],
   "source": [
    "# LowerFrame 2\n",
    "# Input event 3\n",
    "# Define input event work of the Lower Frame\n",
    "action = 'work'\n",
    "event_note='Insert therefore two M6nutplates into the upper slot and one into the lower slot underneath and one into the outer slot as usual '\n",
    "# amount = 0.05\n",
    "cur_pros = process_data['LowerFrame_2']\n",
    "effort_spec = {}\n",
    "effort_spec['unit_id'] = res_spec_data['assembly_construction']['defaultUnit']\n",
    "effort_spec['spec_id'] = res_spec_data['assembly_construction']['id']\n",
    "effort_spec['amount'] = 0.05\n",
    "\n",
    "event_id, ts = create_event(users_data['one'], action, event_note, amount=amount, process=cur_pros, \\\n",
    "                 res_spec_data=res_spec_data, effort_spec=effort_spec, endpoint=ENDPOINT)\n",
    "\n",
    "event_seq.append({'ts': ts, 'event_id':event_id, 'action' : action, 'res_name': cur_res['name'], 'res': cur_res['id']})\n"
   ]
  },
  {
   "cell_type": "code",
   "execution_count": null,
   "id": "eb5ab308-0a18-4869-9787-db55924e061d",
   "metadata": {
    "tags": []
   },
   "outputs": [],
   "source": [
    "# PROCESS wrap\n",
    "event_seq.append({'ts': ts, 'event_id':cur_pros['id'], 'action' : cur_pros['name'], 'res_name': cur_res['name'], 'res': cur_res['id']})"
   ]
  },
  {
   "cell_type": "code",
   "execution_count": null,
   "id": "59422f50-487f-407e-8924-6cf9d8e90791",
   "metadata": {
    "tags": []
   },
   "outputs": [],
   "source": [
    "# LowerFrame 2\n",
    "# Output event 1\n",
    "# Define output modify Lower Frame\n",
    "action = 'modify'\n",
    "event_note='modify LowerFrame_2'\n",
    "amount = 1\n",
    "cur_pros = process_data['LowerFrame_2']\n",
    "cur_res = res_data['lower_frame_res']\n",
    "\n",
    "\n",
    "event_id, ts = create_event(users_data['two'], action, event_note, amount=amount, process=cur_pros, \\\n",
    "                 res_spec_data=res_spec_data, existing_res=cur_res, endpoint=ENDPOINT)\n",
    "\n",
    "event_seq.append({'ts': ts, 'event_id':event_id, 'action' : action, 'res_name': cur_res['name'], 'res': cur_res['id']})\n"
   ]
  },
  {
   "cell_type": "code",
   "execution_count": null,
   "id": "15331b2a-3b4d-452a-a043-a41462ad0d1f",
   "metadata": {
    "tags": []
   },
   "outputs": [],
   "source": [
    "# LowerFrame 3\n",
    "# Input event 1\n",
    "# Define input event accept for Lower Frame 3\n",
    "action = 'accept'\n",
    "event_note='accept LowerFrame to be modified'\n",
    "amount = 1\n",
    "cur_pros = process_data['LowerFrame_3']\n",
    "cur_res = res_data['lower_frame_res']\n",
    "\n",
    "\n",
    "event_id, ts = create_event(users_data['two'], action, event_note, amount=amount, process=cur_pros, \\\n",
    "                 res_spec_data=res_spec_data, existing_res=cur_res, endpoint=ENDPOINT)\n",
    "\n",
    "event_seq.append({'ts': ts, 'event_id':event_id, 'action' : action, 'res_name': cur_res['name'], 'res': cur_res['id']})\n"
   ]
  },
  {
   "cell_type": "code",
   "execution_count": null,
   "id": "357b052a-7536-4af2-bd35-f2bb866d8b49",
   "metadata": {
    "scrolled": true
   },
   "outputs": [],
   "source": [
    "# LowerFrame 3\n",
    "# Input event 2\n",
    "# Define input consume 1 x M6nutplates event for LowerFrame Assembly: \n",
    "action = 'consume'\n",
    "event_note='Input consume 2 x M6nutplate event for Lower Frame Assembly'\n",
    "amount = 1\n",
    "cur_pros = process_data['LowerFrame_3']\n",
    "cur_res = res_data['M6nutplate_res']\n",
    "\n",
    "event_id, ts = create_event(users_data['two'], action, event_note, amount=amount, process=cur_pros, \\\n",
    "                            res_spec_data=res_spec_data, existing_res=cur_res, endpoint=ENDPOINT)\n",
    "\n",
    "event_seq.append({'ts': ts, 'event_id':event_id, 'action' : action, 'res_name': cur_res['name'], 'res': cur_res['id']})\n"
   ]
  },
  {
   "cell_type": "code",
   "execution_count": null,
   "id": "496c1fd9-2ebd-45aa-888e-5ded3f2c642c",
   "metadata": {
    "scrolled": true
   },
   "outputs": [],
   "source": [
    "# EVENT\n",
    "# LowerFrame 3\n",
    "# Input event 3\n",
    "# Define input consume Tslot16 event for LowerFrame Assembly: \n",
    "action = 'consume'\n",
    "event_note='Input consume Tslot16con event for Lower Frame Assembly'\n",
    "amount = 1\n",
    "cur_pros = process_data['LowerFrame_3']\n",
    "cur_res = res_data['Tslot16_res']\n",
    "\n",
    "event_id, ts = create_event(users_data['two'], action, event_note, amount=amount, process=cur_pros, \\\n",
    "                            res_spec_data=res_spec_data, existing_res=cur_res, endpoint=ENDPOINT)\n",
    "\n",
    "event_seq.append({'ts': ts, 'event_id':event_id, 'action' : action, 'res_name': cur_res['name'], 'res': cur_res['id']})\n"
   ]
  },
  {
   "cell_type": "code",
   "execution_count": null,
   "id": "8834a51f-a3d4-4407-9d16-eb2ab67f2144",
   "metadata": {
    "scrolled": true
   },
   "outputs": [],
   "source": [
    "# LowerFrame 3\n",
    "# Input event 4\n",
    "# Define input consume M6x25cyl event for LowerFrame Assembly: \n",
    "action = 'consume'\n",
    "event_note='Input consume M6x25cyl event for Lower Frame Assembly'\n",
    "amount = 1\n",
    "cur_pros = process_data['LowerFrame_3']\n",
    "cur_res = res_data['M6x25cyl_res']\n",
    "\n",
    "event_id, ts = create_event(users_data['two'], action, event_note, amount=amount, process=cur_pros, \\\n",
    "                            res_spec_data=res_spec_data, existing_res=cur_res, endpoint=ENDPOINT)\n",
    "\n",
    "event_seq.append({'ts': ts, 'event_id':event_id, 'action' : action, 'res_name': cur_res['name'], 'res': cur_res['id']})\n"
   ]
  },
  {
   "cell_type": "code",
   "execution_count": null,
   "id": "49130005-e4f9-4cac-8796-0cba57def07f",
   "metadata": {
    "scrolled": true
   },
   "outputs": [],
   "source": [
    "# LowerFrame 3\n",
    "# Input event 5\n",
    "# Define input use Allen Key for LowerFrame Assembly: \n",
    "action = 'use'\n",
    "event_note='Input use Allen Key event for Lower Frame Assembly'\n",
    "amount = 1\n",
    "cur_pros = process_data['LowerFrame_3']\n",
    "cur_res = res_data['Allen_Key_res']\n",
    "\n",
    "#####\n",
    "effort_spec = {}\n",
    "effort_spec['unit_id'] = res_spec_data['assembly_construction']['defaultUnit']\n",
    "# effort_spec['spec_id'] = res_spec_data['assembly_construction']['id']\n",
    "effort_spec['amount'] = 0.03\n",
    "\n",
    "\n",
    "event_id, ts = create_event(users_data['two'], action, event_note, amount=amount, process=cur_pros, \\\n",
    "                 res_spec_data=res_spec_data, existing_res=cur_res, effort_spec=effort_spec, endpoint=ENDPOINT)\n",
    "\n",
    "event_seq.append({'ts': ts, 'event_id':event_id, 'action' : action, 'res_name': cur_res['name'], 'res': cur_res['id']})\n"
   ]
  },
  {
   "cell_type": "code",
   "execution_count": null,
   "id": "76045d1a-481f-4f28-bb07-980920b34edb",
   "metadata": {
    "tags": []
   },
   "outputs": [],
   "source": [
    "# LowerFrame 3\n",
    "# Input event 6\n",
    "# Define input event work of the Lower Frame\n",
    "action = 'work'\n",
    "event_note='Before connecting the second Tslot16 beam you must insert a nutplate into the outer slot of the long Tslot32con, which will be enclosed by the M6x25cyl during the corner connection.'\n",
    "# amount = 0.05\n",
    "cur_pros = process_data['LowerFrame_3']\n",
    "effort_spec = {}\n",
    "effort_spec['unit_id'] = res_spec_data['assembly_construction']['defaultUnit']\n",
    "effort_spec['spec_id'] = res_spec_data['assembly_construction']['id']\n",
    "effort_spec['amount'] = 0.05\n",
    "\n",
    "event_id, ts = create_event(users_data['one'], action, event_note, amount=amount, process=cur_pros, \\\n",
    "                 res_spec_data=res_spec_data, effort_spec=effort_spec, endpoint=ENDPOINT)\n",
    "\n",
    "event_seq.append({'ts': ts, 'event_id':event_id, 'action' : action, 'res_name': cur_res['name'], 'res': cur_res['id']})\n"
   ]
  },
  {
   "cell_type": "code",
   "execution_count": null,
   "id": "33dbe83a-3be0-419f-8aaf-e0b037b89657",
   "metadata": {
    "tags": []
   },
   "outputs": [],
   "source": [
    "# PROCESS wrap\n",
    "event_seq.append({'ts': ts, 'event_id':cur_pros['id'], 'action' : cur_pros['name'], 'res_name': cur_res['name'], 'res': cur_res['id']})"
   ]
  },
  {
   "cell_type": "code",
   "execution_count": null,
   "id": "da472a30-48a6-4332-bc2d-9c56d691bb2a",
   "metadata": {
    "tags": []
   },
   "outputs": [],
   "source": [
    "# LowerFrame 3\n",
    "# Output event 1\n",
    "# Define output modify Lower Frame\n",
    "action = 'modify'\n",
    "event_note='modify LowerFrame_3'\n",
    "amount = 1\n",
    "cur_pros = process_data['LowerFrame_3']\n",
    "cur_res = res_data['lower_frame_res']\n",
    "\n",
    "\n",
    "event_id, ts = create_event(users_data['two'], action, event_note, amount=amount, process=cur_pros, \\\n",
    "                 res_spec_data=res_spec_data, existing_res=cur_res, endpoint=ENDPOINT)\n",
    "\n",
    "event_seq.append({'ts': ts, 'event_id':event_id, 'action' : action, 'res_name': cur_res['name'], 'res': cur_res['id']})\n"
   ]
  },
  {
   "cell_type": "code",
   "execution_count": null,
   "id": "dae6eeca-bc62-41a3-93e7-e9c329d22abc",
   "metadata": {
    "tags": []
   },
   "outputs": [],
   "source": [
    "# LowerFrame 4\n",
    "# Input event 1\n",
    "# Define input event accept for Lower Frame 3\n",
    "action = 'accept'\n",
    "event_note='accept LowerFrame to be modified'\n",
    "amount = 1\n",
    "cur_pros = process_data['LowerFrame_4']\n",
    "cur_res = res_data['lower_frame_res']\n",
    "\n",
    "\n",
    "event_id, ts = create_event(users_data['two'], action, event_note, amount=amount, process=cur_pros, \\\n",
    "                 res_spec_data=res_spec_data, existing_res=cur_res, endpoint=ENDPOINT)\n",
    "\n",
    "event_seq.append({'ts': ts, 'event_id':event_id, 'action' : action, 'res_name': cur_res['name'], 'res': cur_res['id']})\n"
   ]
  },
  {
   "cell_type": "code",
   "execution_count": null,
   "id": "5141789d-2e28-45d9-8266-75c441b4253c",
   "metadata": {
    "scrolled": true
   },
   "outputs": [],
   "source": [
    "# LowerFrame 4\n",
    "# Input event 2\n",
    "# Define input consume 4 x M6nutplates event for LowerFrame Assembly: \n",
    "action = 'consume'\n",
    "event_note='Input consume 4 x M6nutplate event for Lower Frame Assembly'\n",
    "amount = 4\n",
    "cur_pros = process_data['LowerFrame_4']\n",
    "cur_res = res_data['M6nutplate_res']\n",
    "\n",
    "event_id, ts = create_event(users_data['two'], action, event_note, amount=amount, process=cur_pros, \\\n",
    "                            res_spec_data=res_spec_data, existing_res=cur_res, endpoint=ENDPOINT)\n",
    "\n",
    "event_seq.append({'ts': ts, 'event_id':event_id, 'action' : action, 'res_name': cur_res['name'], 'res': cur_res['id']})\n"
   ]
  },
  {
   "cell_type": "code",
   "execution_count": null,
   "id": "4a151d15-43d2-4314-af91-3a1b3860fcb7",
   "metadata": {
    "scrolled": true
   },
   "outputs": [],
   "source": [
    "# EVENT\n",
    "# LowerFrame 4\n",
    "# Input event 3\n",
    "# Define input consume Tslot32con event for LowerFrame Assembly: \n",
    "action = 'consume'\n",
    "event_note='Input consume Tslot32con event for Lower Frame Assembly'\n",
    "amount = 1\n",
    "cur_pros = process_data['LowerFrame_4']\n",
    "cur_res = res_data['Tslot32con_res']\n",
    "\n",
    "event_id, ts = create_event(users_data['two'], action, event_note, amount=amount, process=cur_pros, \\\n",
    "                            res_spec_data=res_spec_data, existing_res=cur_res, endpoint=ENDPOINT)\n",
    "\n",
    "event_seq.append({'ts': ts, 'event_id':event_id, 'action' : action, 'res_name': cur_res['name'], 'res': cur_res['id']})\n"
   ]
  },
  {
   "cell_type": "code",
   "execution_count": null,
   "id": "2fd20832-f750-4810-9399-35b8f36ee8df",
   "metadata": {
    "scrolled": true
   },
   "outputs": [],
   "source": [
    "# LowerFrame 4\n",
    "# Input event 4\n",
    "# Define input consume M6x25cyl event for LowerFrame Assembly: \n",
    "action = 'consume'\n",
    "event_note='Input consume M6x25cyl event for Lower Frame Assembly'\n",
    "amount = 2\n",
    "cur_pros = process_data['LowerFrame_4']\n",
    "cur_res = res_data['M6x25cyl_res']\n",
    "\n",
    "event_id, ts = create_event(users_data['two'], action, event_note, amount=amount, process=cur_pros, \\\n",
    "                            res_spec_data=res_spec_data, existing_res=cur_res, endpoint=ENDPOINT)\n",
    "\n",
    "event_seq.append({'ts': ts, 'event_id':event_id, 'action' : action, 'res_name': cur_res['name'], 'res': cur_res['id']})\n"
   ]
  },
  {
   "cell_type": "code",
   "execution_count": null,
   "id": "eb8f20d9-0671-49c8-9e65-f4bb66d6256b",
   "metadata": {
    "scrolled": true
   },
   "outputs": [],
   "source": [
    "# LowerFrame 4\n",
    "# Input event 5\n",
    "# Define input use Allen Key for LowerFrame Assembly: \n",
    "action = 'use'\n",
    "event_note='Input use Allen Key event for Lower Frame Assembly'\n",
    "amount = 1\n",
    "cur_pros = process_data['LowerFrame_4']\n",
    "cur_res = res_data['Allen_Key_res']\n",
    "\n",
    "#####\n",
    "effort_spec = {}\n",
    "effort_spec['unit_id'] = res_spec_data['assembly_construction']['defaultUnit']\n",
    "# effort_spec['spec_id'] = res_spec_data['assembly_construction']['id']\n",
    "effort_spec['amount'] = 0.03\n",
    "\n",
    "\n",
    "event_id, ts = create_event(users_data['two'], action, event_note, amount=amount, process=cur_pros, \\\n",
    "                 res_spec_data=res_spec_data, existing_res=cur_res, effort_spec=effort_spec, endpoint=ENDPOINT)\n",
    "\n",
    "event_seq.append({'ts': ts, 'event_id':event_id, 'action' : action, 'res_name': cur_res['name'], 'res': cur_res['id']})\n"
   ]
  },
  {
   "cell_type": "code",
   "execution_count": null,
   "id": "88d43007-4837-4e32-b49e-9e062f5c9b73",
   "metadata": {
    "tags": []
   },
   "outputs": [],
   "source": [
    "# LowerFrame 4\n",
    "# Input event 6\n",
    "# Define input event work of the Lower Frame\n",
    "action = 'work'\n",
    "event_note='Before connecting the second Tslot16 beam you must insert a nutplate into the outer slot of the long Tslot32con, which will be enclosed by the M6x25cyl during the corner connection.'\n",
    "# amount = 0.05\n",
    "cur_pros = process_data['LowerFrame_4']\n",
    "effort_spec = {}\n",
    "effort_spec['unit_id'] = res_spec_data['assembly_construction']['defaultUnit']\n",
    "effort_spec['spec_id'] = res_spec_data['assembly_construction']['id']\n",
    "effort_spec['amount'] = 0.05\n",
    "\n",
    "event_id, ts = create_event(users_data['one'], action, event_note, amount=amount, process=cur_pros, \\\n",
    "                 res_spec_data=res_spec_data, effort_spec=effort_spec, endpoint=ENDPOINT)\n",
    "\n",
    "event_seq.append({'ts': ts, 'event_id':event_id, 'action' : action, 'res_name': cur_res['name'], 'res': cur_res['id']})\n"
   ]
  },
  {
   "cell_type": "code",
   "execution_count": null,
   "id": "f2c01a58-30b1-40f5-b36d-d4282aad41b6",
   "metadata": {
    "tags": []
   },
   "outputs": [],
   "source": [
    "# PROCESS wrap\n",
    "event_seq.append({'ts': ts, 'event_id':cur_pros['id'], 'action' : cur_pros['name'], 'res_name': cur_res['name'], 'res': cur_res['id']})"
   ]
  },
  {
   "cell_type": "code",
   "execution_count": null,
   "id": "f5d42701-0fa3-4321-a34d-d6064d4b365b",
   "metadata": {
    "tags": []
   },
   "outputs": [],
   "source": [
    "# LowerFrame 4\n",
    "# Output event 1\n",
    "# Define output modify Lower Frame\n",
    "action = 'modify'\n",
    "event_note='modify LowerFrame_4'\n",
    "amount = 1\n",
    "cur_pros = process_data['LowerFrame_4']\n",
    "cur_res = res_data['lower_frame_res']\n",
    "\n",
    "\n",
    "event_id, ts = create_event(users_data['two'], action, event_note, amount=amount, process=cur_pros, \\\n",
    "                 res_spec_data=res_spec_data, existing_res=cur_res, endpoint=ENDPOINT)\n",
    "\n",
    "event_seq.append({'ts': ts, 'event_id':event_id, 'action' : action, 'res_name': cur_res['name'], 'res': cur_res['id']})\n"
   ]
  },
  {
   "cell_type": "code",
   "execution_count": null,
   "id": "c1c5d9d6-7d4f-41ea-b035-17397d5ff77d",
   "metadata": {
    "scrolled": true
   },
   "outputs": [],
   "source": [
    "# First Pillar\n",
    "# Pillar_1\n",
    "# Input event 1\n",
    "# Define input consume Tslot32 event for Pillar Assembly: \n",
    "action = 'consume'\n",
    "event_note='Input consume Tslot32con event for Pillar Assembly'\n",
    "amount = 1\n",
    "cur_pros = process_data['Pillar_1']\n",
    "cur_res = res_data['Tslot32_res']\n",
    "\n",
    "event_id, ts = create_event(users_data['two'], action, event_note, amount=amount, process=cur_pros, \\\n",
    "                            res_spec_data=res_spec_data, existing_res=cur_res, endpoint=ENDPOINT)\n",
    "\n",
    "event_seq.append({'ts': ts, 'event_id':event_id, 'action' : action, 'res_name': cur_res['name'], 'res': cur_res['id']})\n"
   ]
  },
  {
   "cell_type": "code",
   "execution_count": null,
   "id": "9eb1a1bf-9f98-48e9-977c-000cfbadc454",
   "metadata": {
    "scrolled": true
   },
   "outputs": [],
   "source": [
    "# First Pillar\n",
    "# Pillar_1\n",
    "# Input event 2\n",
    "# Define input consume M6nutplate event for Pillar Assembly: \n",
    "action = 'consume'\n",
    "event_note='Input consume 1 x M6nutplate event for Pillar Assembly'\n",
    "amount = 1\n",
    "cur_pros = process_data['Pillar_1']\n",
    "cur_res = res_data['M6nutplate_res']\n",
    "\n",
    "event_id, ts = create_event(users_data['two'], action, event_note, amount=amount, process=cur_pros, \\\n",
    "                            res_spec_data=res_spec_data, existing_res=cur_res, endpoint=ENDPOINT)\n",
    "\n",
    "event_seq.append({'ts': ts, 'event_id':event_id, 'action' : action, 'res_name': cur_res['name'], 'res': cur_res['id']})\n"
   ]
  },
  {
   "cell_type": "code",
   "execution_count": null,
   "id": "300057c4-77f5-4a60-8cb0-c883440527bf",
   "metadata": {
    "scrolled": true
   },
   "outputs": [],
   "source": [
    "# First Pillar\n",
    "# Pillar_1\n",
    "# Input event 3\n",
    "# Define input consume RAConnector event for Pillar Assembly: \n",
    "action = 'consume'\n",
    "event_note='Input consume 1 x RAConnector event for Pillar Assembly'\n",
    "amount = 1\n",
    "cur_pros = process_data['Pillar_1']\n",
    "cur_res = res_data['RAConnector_res']\n",
    "\n",
    "event_id, ts = create_event(users_data['two'], action, event_note, amount=amount, process=cur_pros, \\\n",
    "                            res_spec_data=res_spec_data, existing_res=cur_res, endpoint=ENDPOINT)\n",
    "\n",
    "event_seq.append({'ts': ts, 'event_id':event_id, 'action' : action, 'res_name': cur_res['name'], 'res': cur_res['id']})\n"
   ]
  },
  {
   "cell_type": "code",
   "execution_count": null,
   "id": "1efc93f9-0998-4dbb-bbea-7c24c5b6245b",
   "metadata": {
    "scrolled": true
   },
   "outputs": [],
   "source": [
    "# First Pillar\n",
    "# Pillar_1\n",
    "# Input event 4\n",
    "# Define input consume 1 x M6x12 event for Pillar Assembly: \n",
    "action = 'consume'\n",
    "event_note='Input consume 1 x M6x12 event for Pillar Assembly'\n",
    "amount = 1\n",
    "cur_pros = process_data['Pillar_1']\n",
    "cur_res = res_data['RAConnector_res']\n",
    "\n",
    "event_id, ts = create_event(users_data['two'], action, event_note, amount=amount, process=cur_pros, \\\n",
    "                            res_spec_data=res_spec_data, existing_res=cur_res, endpoint=ENDPOINT)\n",
    "\n",
    "event_seq.append({'ts': ts, 'event_id':event_id, 'action' : action, 'res_name': cur_res['name'], 'res': cur_res['id']})\n"
   ]
  },
  {
   "cell_type": "code",
   "execution_count": null,
   "id": "49ba756f-cc5b-444f-8726-938807587ef7",
   "metadata": {
    "scrolled": true
   },
   "outputs": [],
   "source": [
    "# First Pillar\n",
    "# Pillar_1\n",
    "# Input event 5\n",
    "# Define input use Allen Key for LowerFrame Assembly: \n",
    "action = 'use'\n",
    "event_note='Input use Allen Key event for Lower Frame Assembly'\n",
    "amount = 1\n",
    "cur_pros = process_data['Pillar_1']\n",
    "cur_res = res_data['Allen_Key_res']\n",
    "\n",
    "#####\n",
    "effort_spec = {}\n",
    "effort_spec['unit_id'] = res_spec_data['assembly_construction']['defaultUnit']\n",
    "# effort_spec['spec_id'] = res_spec_data['assembly_construction']['id']\n",
    "effort_spec['amount'] = 0.03\n",
    "\n",
    "\n",
    "event_id, ts = create_event(users_data['two'], action, event_note, amount=amount, process=cur_pros, \\\n",
    "                 res_spec_data=res_spec_data, existing_res=cur_res, effort_spec=effort_spec, endpoint=ENDPOINT)\n",
    "\n",
    "event_seq.append({'ts': ts, 'event_id':event_id, 'action' : action, 'res_name': cur_res['name'], 'res': cur_res['id']})\n"
   ]
  },
  {
   "cell_type": "code",
   "execution_count": null,
   "id": "a0316990-4064-4713-9910-d659e540de9d",
   "metadata": {
    "tags": []
   },
   "outputs": [],
   "source": [
    "# First Pillar\n",
    "# Pillar_1\n",
    "# Input event 6\n",
    "# Define input event work of the Pillar Pillar_1\n",
    "action = 'work'\n",
    "event_note='Insert one M6nutplate at one end of a Tslot32 beam and use it to connect one of the RAconnectors to that beam with a M6x12 screw.'\n",
    "# amount = 0.05\n",
    "cur_pros = process_data['Pillar_1']\n",
    "effort_spec = {}\n",
    "effort_spec['unit_id'] = res_spec_data['assembly_construction']['defaultUnit']\n",
    "effort_spec['spec_id'] = res_spec_data['assembly_construction']['id']\n",
    "effort_spec['amount'] = 0.05\n",
    "\n",
    "event_id, ts = create_event(users_data['one'], action, event_note, amount=amount, process=cur_pros, \\\n",
    "                 res_spec_data=res_spec_data, effort_spec=effort_spec, endpoint=ENDPOINT)\n",
    "\n",
    "event_seq.append({'ts': ts, 'event_id':event_id, 'action' : action, 'res_name': cur_res['name'], 'res': cur_res['id']})\n"
   ]
  },
  {
   "cell_type": "code",
   "execution_count": null,
   "id": "fdda3b2e-9aab-49ee-91d3-ada6a043e169",
   "metadata": {
    "tags": []
   },
   "outputs": [],
   "source": [
    "# PROCESS wrap\n",
    "event_seq.append({'ts': ts, 'event_id':cur_pros['id'], 'action' : cur_pros['name'], 'res_name': cur_res['name'], 'res': cur_res['id']})"
   ]
  },
  {
   "cell_type": "code",
   "execution_count": null,
   "id": "398edccc-8f59-4344-b1b9-2841e367d6d9",
   "metadata": {
    "scrolled": true
   },
   "outputs": [],
   "source": [
    "# First Pillar\n",
    "# Pillar_1\n",
    "# Output event 1\n",
    "# Define output produce event of the Pillar\n",
    "action = 'produce'\n",
    "event_note='produce Pillar'\n",
    "amount = 1\n",
    "produced_resource = 'pillar'\n",
    "\n",
    "cur_pros = process_data['Pillar_1']\n",
    "\n",
    "res_data[f'{produced_resource}_res'] = {\n",
    "    \"res_ref_id\": f'{produced_resource}-{random.randint(0, 10000)}',\n",
    "    \"name\": f'{produced_resource}',\n",
    "    \"spec_id\": res_spec_data[f'{produced_resource}']['id']\n",
    "}\n",
    "cur_res = res_data[f'{produced_resource}_res']\n",
    "\n",
    "\n",
    "event_id, ts = create_event(users_data['two'], action, event_note, amount=amount, process=cur_pros, \\\n",
    "                 res_spec_data=res_spec_data, new_res=cur_res, endpoint=ENDPOINT)\n",
    "\n",
    "event_seq.append({'ts': ts, 'event_id':event_id, 'action' : action, 'res_name': cur_res['name'], 'res': cur_res['id']})\n"
   ]
  },
  {
   "cell_type": "code",
   "execution_count": null,
   "id": "1e457646-e37e-4b29-b4e9-135f3ed742ed",
   "metadata": {
    "tags": []
   },
   "outputs": [],
   "source": [
    "# First Pillar\n",
    "# Pillar_2\n",
    "# Input event 1\n",
    "# Define input event accept of the Pillar\n",
    "action = 'accept'\n",
    "event_note='accept Pillar to be modified'\n",
    "amount = 1\n",
    "cur_pros = process_data['Pillar_2']\n",
    "cur_res = res_data[f'{produced_resource}_res']\n",
    "\n",
    "\n",
    "event_id, ts = create_event(users_data['two'], action, event_note, amount=amount, process=cur_pros, \\\n",
    "                 res_spec_data=res_spec_data, existing_res=cur_res, endpoint=ENDPOINT)\n",
    "\n",
    "event_seq.append({'ts': ts, 'event_id':event_id, 'action' : action, 'res_name': cur_res['name'], 'res': cur_res['id']})\n"
   ]
  },
  {
   "cell_type": "code",
   "execution_count": null,
   "id": "12877c2d-f04c-417c-8e7e-a77f96a6410b",
   "metadata": {
    "scrolled": true
   },
   "outputs": [],
   "source": [
    "# First Pillar\n",
    "# Pillar_2\n",
    "# Input event 2\n",
    "# Define input consume 3 x M6nutplate event for Pillar Assembly: \n",
    "action = 'consume'\n",
    "event_note='Input consume 3 x M6nutplate event for Pillar Assembly'\n",
    "amount = 3\n",
    "cur_pros = process_data['Pillar_2']\n",
    "cur_res = res_data['M6nutplate_res']\n",
    "\n",
    "event_id, ts = create_event(users_data['two'], action, event_note, amount=amount, process=cur_pros, \\\n",
    "                            res_spec_data=res_spec_data, existing_res=cur_res, endpoint=ENDPOINT)\n",
    "\n",
    "event_seq.append({'ts': ts, 'event_id':event_id, 'action' : action, 'res_name': cur_res['name'], 'res': cur_res['id']})\n"
   ]
  },
  {
   "cell_type": "code",
   "execution_count": null,
   "id": "fae71284-c479-4845-af83-ca04d8a7b6fd",
   "metadata": {
    "scrolled": true
   },
   "outputs": [],
   "source": [
    "# First Pillar\n",
    "# Pillar_2\n",
    "# Input event 3\n",
    "# Define input consume RAConnector event for Pillar Assembly: \n",
    "action = 'consume'\n",
    "event_note='Input consume 1 x RAConnector event for Pillar Assembly'\n",
    "amount = 1\n",
    "cur_pros = process_data['Pillar_2']\n",
    "cur_res = res_data['RAConnector_res']\n",
    "\n",
    "event_id, ts = create_event(users_data['two'], action, event_note, amount=amount, process=cur_pros, \\\n",
    "                            res_spec_data=res_spec_data, existing_res=cur_res, endpoint=ENDPOINT)\n",
    "\n",
    "event_seq.append({'ts': ts, 'event_id':event_id, 'action' : action, 'res_name': cur_res['name'], 'res': cur_res['id']})\n"
   ]
  },
  {
   "cell_type": "code",
   "execution_count": null,
   "id": "ebaa94d7-db3f-4c5c-92b3-464cb2726a1e",
   "metadata": {
    "scrolled": true
   },
   "outputs": [],
   "source": [
    "# First Pillar\n",
    "# Pillar_2\n",
    "# Input event 4\n",
    "# Define input use Allen Key for Pillar Assembly: \n",
    "action = 'use'\n",
    "event_note='Input use Allen Key event for Lower Frame Assembly'\n",
    "amount = 1\n",
    "cur_pros = process_data['Pillar_2']\n",
    "cur_res = res_data['Allen_Key_res']\n",
    "\n",
    "#####\n",
    "effort_spec = {}\n",
    "effort_spec['unit_id'] = res_spec_data['assembly_construction']['defaultUnit']\n",
    "# effort_spec['spec_id'] = res_spec_data['assembly_construction']['id']\n",
    "effort_spec['amount'] = 0.03\n",
    "\n",
    "\n",
    "event_id, ts = create_event(users_data['two'], action, event_note, amount=amount, process=cur_pros, \\\n",
    "                 res_spec_data=res_spec_data, existing_res=cur_res, effort_spec=effort_spec, endpoint=ENDPOINT)\n",
    "\n",
    "event_seq.append({'ts': ts, 'event_id':event_id, 'action' : action, 'res_name': cur_res['name'], 'res': cur_res['id']})\n"
   ]
  },
  {
   "cell_type": "code",
   "execution_count": null,
   "id": "06b621be-8f67-4955-b935-c5b210ccdb2f",
   "metadata": {
    "tags": []
   },
   "outputs": [],
   "source": [
    "# First Pillar\n",
    "# Pillar_2\n",
    "# Input event 5\n",
    "# Define input event work of the Pillar Pillar_2\n",
    "action = 'work'\n",
    "event_note='Insert three M6nutplates more at the other end of the beam and use one of them to connect another RAconnector there.'\n",
    "# amount = 0.05\n",
    "cur_pros = process_data['Pillar_2']\n",
    "effort_spec = {}\n",
    "effort_spec['unit_id'] = res_spec_data['assembly_construction']['defaultUnit']\n",
    "effort_spec['spec_id'] = res_spec_data['assembly_construction']['id']\n",
    "effort_spec['amount'] = 0.05\n",
    "\n",
    "event_id, ts = create_event(users_data['one'], action, event_note, amount=amount, process=cur_pros, \\\n",
    "                 res_spec_data=res_spec_data, effort_spec=effort_spec, endpoint=ENDPOINT)\n",
    "\n",
    "event_seq.append({'ts': ts, 'event_id':event_id, 'action' : action, 'res_name': cur_res['name'], 'res': cur_res['id']})\n"
   ]
  },
  {
   "cell_type": "code",
   "execution_count": null,
   "id": "a62b53ce-c75a-4e9f-9012-d25481fe6373",
   "metadata": {
    "tags": []
   },
   "outputs": [],
   "source": [
    "# PROCESS wrap\n",
    "event_seq.append({'ts': ts, 'event_id':cur_pros['id'], 'action' : cur_pros['name'], 'res_name': cur_res['name'], 'res': cur_res['id']})"
   ]
  },
  {
   "cell_type": "code",
   "execution_count": null,
   "id": "5cd9ee28-ff55-42e4-8da3-3cb89e2fe405",
   "metadata": {
    "tags": []
   },
   "outputs": [],
   "source": [
    "# First Pillar\n",
    "# Pillar_2\n",
    "# Output event 1\n",
    "# Define output event modify Pillar\n",
    "action = 'modify'\n",
    "event_note='modify Pillar'\n",
    "amount = 1\n",
    "cur_pros = process_data['Pillar_2']\n",
    "cur_res = res_data[f'{produced_resource}_res']\n",
    "\n",
    "\n",
    "event_id, ts = create_event(users_data['two'], action, event_note, amount=amount, process=cur_pros, \\\n",
    "                 res_spec_data=res_spec_data, existing_res=cur_res, endpoint=ENDPOINT)\n",
    "\n",
    "event_seq.append({'ts': ts, 'event_id':event_id, 'action' : action, 'res_name': cur_res['name'], 'res': cur_res['id']})\n"
   ]
  },
  {
   "cell_type": "code",
   "execution_count": null,
   "id": "874eb34a-3077-4005-a56c-71346e892562",
   "metadata": {
    "scrolled": true
   },
   "outputs": [],
   "source": [
    "# Second Pillar\n",
    "# Pillar_1\n",
    "# Input event 1\n",
    "# Define input consume Tslot32 event for Pillar Assembly: \n",
    "process_name = 'Second_Pillar_1'\n",
    "action = 'consume'\n",
    "event_note='Input consume Tslot32con event for Pillar Assembly'\n",
    "amount = 1\n",
    "cur_pros = process_data[f'{process_name}']\n",
    "cur_res = res_data['Tslot32_res']\n",
    "\n",
    "event_id, ts = create_event(users_data['two'], action, event_note, amount=amount, process=cur_pros, \\\n",
    "                            res_spec_data=res_spec_data, existing_res=cur_res, endpoint=ENDPOINT)\n",
    "\n",
    "event_seq.append({'ts': ts, 'event_id':event_id, 'action' : action, 'res_name': cur_res['name'], 'res': cur_res['id']})\n"
   ]
  },
  {
   "cell_type": "code",
   "execution_count": null,
   "id": "1c3e4c7b-15cf-4ee8-8087-9a3af3e33c4d",
   "metadata": {
    "scrolled": true
   },
   "outputs": [],
   "source": [
    "# Second Pillar\n",
    "# Pillar_1\n",
    "# Input event 2\n",
    "# Define input consume M6nutplate event for Pillar Assembly: \n",
    "process_name = 'Second_Pillar_1'\n",
    "action = 'consume'\n",
    "event_note='Input consume 1 x M6nutplate event for Pillar Assembly'\n",
    "amount = 1\n",
    "cur_pros = process_data[f'{process_name}']\n",
    "cur_res = res_data['M6nutplate_res']\n",
    "\n",
    "event_id, ts = create_event(users_data['two'], action, event_note, amount=amount, process=cur_pros, \\\n",
    "                            res_spec_data=res_spec_data, existing_res=cur_res, endpoint=ENDPOINT)\n",
    "\n",
    "event_seq.append({'ts': ts, 'event_id':event_id, 'action' : action, 'res_name': cur_res['name'], 'res': cur_res['id']})\n"
   ]
  },
  {
   "cell_type": "code",
   "execution_count": null,
   "id": "6093d9e8-707b-4daa-a5ab-c73a840d434e",
   "metadata": {
    "scrolled": true
   },
   "outputs": [],
   "source": [
    "# Second Pillar\n",
    "# Pillar_1\n",
    "# Input event 3\n",
    "# Define input consume RAConnector event for Pillar Assembly: \n",
    "process_name = 'Second_Pillar_1'\n",
    "action = 'consume'\n",
    "event_note='Input consume 1 x RAConnector event for Pillar Assembly'\n",
    "amount = 1\n",
    "cur_pros = process_data[f'{process_name}']\n",
    "cur_res = res_data['RAConnector_res']\n",
    "\n",
    "event_id, ts = create_event(users_data['two'], action, event_note, amount=amount, process=cur_pros, \\\n",
    "                            res_spec_data=res_spec_data, existing_res=cur_res, endpoint=ENDPOINT)\n",
    "\n",
    "event_seq.append({'ts': ts, 'event_id':event_id, 'action' : action, 'res_name': cur_res['name'], 'res': cur_res['id']})\n"
   ]
  },
  {
   "cell_type": "code",
   "execution_count": null,
   "id": "ba027a9a-5fb7-4505-858b-50ae0ca9cd9e",
   "metadata": {
    "scrolled": true
   },
   "outputs": [],
   "source": [
    "# Second Pillar\n",
    "# Pillar_1\n",
    "# Input event 4\n",
    "# Define input consume 1 x M6x12 event for Pillar Assembly: \n",
    "process_name = 'Second_Pillar_1'\n",
    "action = 'consume'\n",
    "event_note='Input consume 1 x M6x12 event for Pillar Assembly'\n",
    "amount = 1\n",
    "cur_pros = process_data[f'{process_name}']\n",
    "cur_res = res_data['RAConnector_res']\n",
    "\n",
    "event_id, ts = create_event(users_data['two'], action, event_note, amount=amount, process=cur_pros, \\\n",
    "                            res_spec_data=res_spec_data, existing_res=cur_res, endpoint=ENDPOINT)\n",
    "\n",
    "event_seq.append({'ts': ts, 'event_id':event_id, 'action' : action, 'res_name': cur_res['name'], 'res': cur_res['id']})\n"
   ]
  },
  {
   "cell_type": "code",
   "execution_count": null,
   "id": "91fdf31a-3780-4016-b5fb-2c52b12b2176",
   "metadata": {
    "scrolled": true
   },
   "outputs": [],
   "source": [
    "# Second Pillar\n",
    "# Pillar_1\n",
    "# Input event 5\n",
    "# Define input use Allen Key for LowerFrame Assembly: \n",
    "process_name = 'Second_Pillar_1'\n",
    "action = 'use'\n",
    "event_note='Input use Allen Key event for Lower Frame Assembly'\n",
    "amount = 1\n",
    "cur_pros = process_data[f'{process_name}']\n",
    "cur_res = res_data['Allen_Key_res']\n",
    "\n",
    "#####\n",
    "effort_spec = {}\n",
    "effort_spec['unit_id'] = res_spec_data['assembly_construction']['defaultUnit']\n",
    "# effort_spec['spec_id'] = res_spec_data['assembly_construction']['id']\n",
    "effort_spec['amount'] = 0.03\n",
    "\n",
    "\n",
    "event_id, ts = create_event(users_data['two'], action, event_note, amount=amount, process=cur_pros, \\\n",
    "                 res_spec_data=res_spec_data, existing_res=cur_res, effort_spec=effort_spec, endpoint=ENDPOINT)\n",
    "\n",
    "event_seq.append({'ts': ts, 'event_id':event_id, 'action' : action, 'res_name': cur_res['name'], 'res': cur_res['id']})\n"
   ]
  },
  {
   "cell_type": "code",
   "execution_count": null,
   "id": "9b5ba0dd-f254-42df-88fe-4c199624c090",
   "metadata": {
    "tags": []
   },
   "outputs": [],
   "source": [
    "# Second Pillar\n",
    "# Pillar_1\n",
    "# Input event 6\n",
    "# Define input event work of the Pillar Pillar_1\n",
    "process_name = 'Second_Pillar_1'\n",
    "action = 'work'\n",
    "event_note='Insert one M6nutplate at one end of a Tslot32 beam and use it to connect one of the RAconnectors to that beam with a M6x12 screw.'\n",
    "# amount = 0.05\n",
    "cur_pros = process_data[f'{process_name}']\n",
    "effort_spec = {}\n",
    "effort_spec['unit_id'] = res_spec_data['assembly_construction']['defaultUnit']\n",
    "effort_spec['spec_id'] = res_spec_data['assembly_construction']['id']\n",
    "effort_spec['amount'] = 0.05\n",
    "\n",
    "event_id, ts = create_event(users_data['one'], action, event_note, amount=amount, process=cur_pros, \\\n",
    "                 res_spec_data=res_spec_data, effort_spec=effort_spec, endpoint=ENDPOINT)\n",
    "\n",
    "event_seq.append({'ts': ts, 'event_id':event_id, 'action' : action, 'res_name': cur_res['name'], 'res': cur_res['id']})\n"
   ]
  },
  {
   "cell_type": "code",
   "execution_count": null,
   "id": "2d99fa71-5ffe-4141-b647-1a7604717800",
   "metadata": {
    "tags": []
   },
   "outputs": [],
   "source": [
    "# PROCESS wrap\n",
    "event_seq.append({'ts': ts, 'event_id':cur_pros['id'], 'action' : cur_pros['name'], 'res_name': cur_res['name'], 'res': cur_res['id']})"
   ]
  },
  {
   "cell_type": "code",
   "execution_count": null,
   "id": "6f7bda93-c421-4d90-83f3-c6d38e8d0e2f",
   "metadata": {
    "scrolled": true
   },
   "outputs": [],
   "source": [
    "# Second Pillar\n",
    "# Pillar_1\n",
    "# Output event 1\n",
    "# Define output produce event of the Pillar\n",
    "process_name = 'Second_Pillar_1'\n",
    "action = 'produce'\n",
    "event_note='produce Pillar'\n",
    "amount = 1\n",
    "\n",
    "produced_resource ='pillar'\n",
    "\n",
    "cur_pros = process_data[f'{process_name}']\n",
    "\n",
    "res_data[f'{produced_resource}_res'] = {\n",
    "    \"res_ref_id\": f'{produced_resource}-{random.randint(0, 10000)}',\n",
    "    \"name\": f'{produced_resource}',\n",
    "    \"spec_id\": res_spec_data[f'{produced_resource}']['id']\n",
    "}\n",
    "cur_res = res_data[f'{produced_resource}_res']\n",
    "\n",
    "\n",
    "event_id, ts = create_event(users_data['two'], action, event_note, amount=amount, process=cur_pros, \\\n",
    "                 res_spec_data=res_spec_data, new_res=cur_res, endpoint=ENDPOINT)\n",
    "\n",
    "event_seq.append({'ts': ts, 'event_id':event_id, 'action' : action, 'res_name': cur_res['name'], 'res': cur_res['id']})\n"
   ]
  },
  {
   "cell_type": "code",
   "execution_count": null,
   "id": "b18d1b15-c63c-4197-888a-2d303e59b3c2",
   "metadata": {
    "tags": []
   },
   "outputs": [],
   "source": [
    "# Second Pillar\n",
    "# Pillar_2\n",
    "# Input event 1\n",
    "# Define input event accept of the Pillar\n",
    "process_name = 'Second_Pillar_2'\n",
    "action = 'accept'\n",
    "event_note='accept Pillar to be modified'\n",
    "amount = 1\n",
    "cur_pros = process_data[f'{process_name}']\n",
    "cur_res = res_data[f'{produced_resource}_res']\n",
    "\n",
    "\n",
    "event_id, ts = create_event(users_data['two'], action, event_note, amount=amount, process=cur_pros, \\\n",
    "                 res_spec_data=res_spec_data, existing_res=cur_res, endpoint=ENDPOINT)\n",
    "\n",
    "event_seq.append({'ts': ts, 'event_id':event_id, 'action' : action, 'res_name': cur_res['name'], 'res': cur_res['id']})\n"
   ]
  },
  {
   "cell_type": "code",
   "execution_count": null,
   "id": "ce20b8d0-4678-4092-9bfd-a42aad5f3d83",
   "metadata": {
    "scrolled": true
   },
   "outputs": [],
   "source": [
    "# Second Pillar\n",
    "# Pillar_2\n",
    "# Input event 2\n",
    "# Define input consume 3 x M6nutplate event for Pillar Assembly: \n",
    "process_name = 'Second_Pillar_2'\n",
    "action = 'consume'\n",
    "event_note='Input consume 3 x M6nutplate event for Pillar Assembly'\n",
    "amount = 3\n",
    "cur_pros = process_data[f'{process_name}']\n",
    "cur_res = res_data['M6nutplate_res']\n",
    "\n",
    "event_id, ts = create_event(users_data['two'], action, event_note, amount=amount, process=cur_pros, \\\n",
    "                            res_spec_data=res_spec_data, existing_res=cur_res, endpoint=ENDPOINT)\n",
    "\n",
    "event_seq.append({'ts': ts, 'event_id':event_id, 'action' : action, 'res_name': cur_res['name'], 'res': cur_res['id']})\n"
   ]
  },
  {
   "cell_type": "code",
   "execution_count": null,
   "id": "ace32b20-ff13-472a-92dd-30fde0448fdb",
   "metadata": {
    "scrolled": true
   },
   "outputs": [],
   "source": [
    "# Second Pillar\n",
    "# Pillar_2\n",
    "# Input event 3\n",
    "# Define input consume RAConnector event for Pillar Assembly: \n",
    "process_name = 'Second_Pillar_2'\n",
    "action = 'consume'\n",
    "event_note='Input consume 1 x RAConnector event for Pillar Assembly'\n",
    "amount = 1\n",
    "cur_pros = process_data[f'{process_name}']\n",
    "cur_res = res_data['RAConnector_res']\n",
    "\n",
    "event_id, ts = create_event(users_data['two'], action, event_note, amount=amount, process=cur_pros, \\\n",
    "                            res_spec_data=res_spec_data, existing_res=cur_res, endpoint=ENDPOINT)\n",
    "\n",
    "event_seq.append({'ts': ts, 'event_id':event_id, 'action' : action, 'res_name': cur_res['name'], 'res': cur_res['id']})\n"
   ]
  },
  {
   "cell_type": "code",
   "execution_count": null,
   "id": "18693730-b798-4957-9bbc-4656c5649cc6",
   "metadata": {
    "scrolled": true
   },
   "outputs": [],
   "source": [
    "# Second Pillar\n",
    "# Pillar_2\n",
    "# Input event 4\n",
    "# Define input use Allen Key for Pillar Assembly: \n",
    "process_name = 'Second_Pillar_2'\n",
    "action = 'use'\n",
    "event_note='Input use Allen Key event for Lower Frame Assembly'\n",
    "amount = 1\n",
    "cur_pros = process_data[f'{process_name}']\n",
    "cur_res = res_data['Allen_Key_res']\n",
    "\n",
    "#####\n",
    "effort_spec = {}\n",
    "effort_spec['unit_id'] = res_spec_data['assembly_construction']['defaultUnit']\n",
    "# effort_spec['spec_id'] = res_spec_data['assembly_construction']['id']\n",
    "effort_spec['amount'] = 0.03\n",
    "\n",
    "\n",
    "event_id, ts = create_event(users_data['two'], action, event_note, amount=amount, process=cur_pros, \\\n",
    "                 res_spec_data=res_spec_data, existing_res=cur_res, effort_spec=effort_spec, endpoint=ENDPOINT)\n",
    "\n",
    "event_seq.append({'ts': ts, 'event_id':event_id, 'action' : action, 'res_name': cur_res['name'], 'res': cur_res['id']})\n"
   ]
  },
  {
   "cell_type": "code",
   "execution_count": null,
   "id": "021fc68e-b5c5-4fda-9b43-45f98eac4acc",
   "metadata": {
    "tags": []
   },
   "outputs": [],
   "source": [
    "# Second Pillar\n",
    "# Pillar_2\n",
    "# Input event 5\n",
    "# Define input event work of the Pillar Pillar_2\n",
    "process_name = 'Second_Pillar_2'\n",
    "action = 'work'\n",
    "event_note='Insert three M6nutplates more at the other end of the beam and use one of them to connect another RAconnector there.'\n",
    "# amount = 0.05\n",
    "cur_pros = process_data[f'{process_name}']\n",
    "effort_spec = {}\n",
    "effort_spec['unit_id'] = res_spec_data['assembly_construction']['defaultUnit']\n",
    "effort_spec['spec_id'] = res_spec_data['assembly_construction']['id']\n",
    "effort_spec['amount'] = 0.05\n",
    "\n",
    "event_id, ts = create_event(users_data['one'], action, event_note, amount=amount, process=cur_pros, \\\n",
    "                 res_spec_data=res_spec_data, effort_spec=effort_spec, endpoint=ENDPOINT)\n",
    "\n",
    "event_seq.append({'ts': ts, 'event_id':event_id, 'action' : action, 'res_name': cur_res['name'], 'res': cur_res['id']})\n"
   ]
  },
  {
   "cell_type": "code",
   "execution_count": null,
   "id": "b4d87ffe-0308-41fc-8adf-5921a188fc9c",
   "metadata": {
    "tags": []
   },
   "outputs": [],
   "source": [
    "# PROCESS wrap\n",
    "event_seq.append({'ts': ts, 'event_id':cur_pros['id'], 'action' : cur_pros['name'], 'res_name': cur_res['name'], 'res': cur_res['id']})"
   ]
  },
  {
   "cell_type": "code",
   "execution_count": null,
   "id": "fb118950-4b7c-406f-aa59-7dcb1c6a6ed3",
   "metadata": {
    "tags": []
   },
   "outputs": [],
   "source": [
    "# Second Pillar\n",
    "# Pillar_2\n",
    "# Output event 1\n",
    "# Define output event modify Pillar\n",
    "process_name = 'Second_Pillar_2'\n",
    "action = 'modify'\n",
    "event_note='modify Pillar'\n",
    "amount = 1\n",
    "cur_pros = process_data[f'{process_name}']\n",
    "cur_res = res_data[f'{produced_resource}_res']\n",
    "\n",
    "\n",
    "event_id, ts = create_event(users_data['two'], action, event_note, amount=amount, process=cur_pros, \\\n",
    "                 res_spec_data=res_spec_data, existing_res=cur_res, endpoint=ENDPOINT)\n",
    "\n",
    "event_seq.append({'ts': ts, 'event_id':event_id, 'action' : action, 'res_name': cur_res['name'], 'res': cur_res['id']})\n"
   ]
  },
  {
   "cell_type": "code",
   "execution_count": null,
   "id": "a8dbca3e-ae8c-4fbb-adfa-d6dafc2a0ae4",
   "metadata": {},
   "outputs": [],
   "source": [
    "# Mock Transfer from user two to user one\n",
    "note='Mock Transfer UpperFrame from two to one'\n",
    "action = 'transfer'\n",
    "amount = 1\n",
    "cur_res = res_data['upper_frame_res']\n",
    "\n",
    "event_id, ts = make_transfer(users_data['two'], action, note, users_data['one'], amount, cur_res, locs_data, res_spec_data, endpoint=ENDPOINT)\n",
    "event_seq.append({'ts': ts, 'event_id':event_id, 'action' : action, 'res_name': cur_res['name'], 'res': cur_res['id']})"
   ]
  },
  {
   "cell_type": "code",
   "execution_count": null,
   "id": "4b8b4001",
   "metadata": {},
   "outputs": [],
   "source": [
    "show_data(users_data, locs_data, res_data, units_data, res_spec_data, process_data, event_seq)"
   ]
  },
  {
   "cell_type": "code",
   "execution_count": null,
   "id": "065a2a66",
   "metadata": {},
   "outputs": [],
   "source": [
    "# example of using show functions\n",
    "# show_resource(users_data['one'], '061Z9FX8M4BJ3M6JMB7MW7VSER', endpoint=ENDPOINT)\n",
    "# show_proposal(users_data['one'], '061Z9FX9H8PT0JF16KP25VS8R0', endpoint=ENDPOINT)\n"
   ]
  },
  {
   "cell_type": "code",
   "execution_count": null,
   "id": "89e9fa5c-f962-4f36-b0d6-bfd22065b945",
   "metadata": {
    "collapsed": true,
    "jupyter": {
     "outputs_hidden": true
    },
    "tags": []
   },
   "outputs": [],
   "source": [
    "trace_me = res_data['upper_frame_res']['id']\n",
    "# trace_me = '062HCB36KR2QRY5HPP2RETC9M4'\n",
    "print(f\"Resource to be traced: {trace_me}\")\n",
    "tot_dpp = []\n",
    "visited = {}\n",
    "er_before(trace_me, users_data['two'], dpp_children=tot_dpp, depth=0, visited=visited, endpoint=ENDPOINT)\n",
    "\n",
    "# Serializing json\n",
    "json_object = json.dumps(tot_dpp, indent=2)\n",
    "\n",
    "print(json_object)\n",
    "print(visited)"
   ]
  },
  {
   "cell_type": "code",
   "execution_count": null,
   "id": "239aa175",
   "metadata": {
    "collapsed": true,
    "jupyter": {
     "outputs_hidden": true,
     "source_hidden": true
    },
    "tags": []
   },
   "outputs": [],
   "source": [
    "be_dpp = get_ddp(trace_me, user_data, endpoint=ENDPOINT)\n",
    "print(json.dumps(be_dpp, indent=2))"
   ]
  },
  {
   "cell_type": "code",
   "execution_count": null,
   "id": "597c9173",
   "metadata": {
    "collapsed": true,
    "jupyter": {
     "outputs_hidden": true,
     "source_hidden": true
    },
    "tags": []
   },
   "outputs": [],
   "source": [
    "trace = trace_query(trace_me, users_data['two'], endpoint=ENDPOINT)\n",
    "# check consistency between the registered events, the back-end trace and the generated dpp\n",
    "check_traces(trace, event_seq, tot_dpp, be_dpp)"
   ]
  },
  {
   "cell_type": "code",
   "execution_count": null,
   "id": "8a03e394",
   "metadata": {},
   "outputs": [],
   "source": [
    "save_traces(USE_CASE, tot_dpp, trace, be_dpp, event_seq)"
   ]
  },
  {
   "cell_type": "code",
   "execution_count": null,
   "id": "85893af9",
   "metadata": {},
   "outputs": [],
   "source": [
    "labels = []\n",
    "sources = []\n",
    "targets = []\n",
    "values = []\n",
    "color_nodes = []\n",
    "color_links = []\n",
    "assigned = {}\n",
    "vis_dpp(tot_dpp[0], count=0, assigned=assigned, labels=labels, targets=targets, sources=sources, values=values, color_nodes=color_nodes, color_links=color_links)\n",
    "sources, targets = consol_trace(assigned, sources, targets)\n",
    "make_sankey(sources, targets, labels, values, color_nodes, color_links)\n",
    "# make_sankey([0,0,1,2,2], [2,3,3,3,4], ['0','1','2','3','4'], [2,1,1,1,1], color_nodes, color_links)"
   ]
  },
  {
   "cell_type": "code",
   "execution_count": null,
   "id": "b98ddac7",
   "metadata": {
    "collapsed": true,
    "jupyter": {
     "outputs_hidden": true,
     "source_hidden": true
    },
    "tags": []
   },
   "outputs": [],
   "source": [
    "trace_me = res_data['lower_frame_res']['id']\n",
    "# trace_me = '062HCB36KR2QRY5HPP2RETC9M4'\n",
    "print(f\"Resource to be traced: {trace_me}\")\n",
    "tot_dpp = []\n",
    "visited = {}\n",
    "er_before(trace_me, users_data['two'], dpp_children=tot_dpp, depth=0, visited=visited, endpoint=ENDPOINT)\n",
    "\n",
    "# Serializing json\n",
    "json_object = json.dumps(tot_dpp, indent=2)\n",
    "\n",
    "print(json_object)\n",
    "print(visited)"
   ]
  },
  {
   "cell_type": "code",
   "execution_count": null,
   "id": "b3b7064f-f720-4452-8e7e-4a8da8e90fce",
   "metadata": {
    "collapsed": true,
    "jupyter": {
     "outputs_hidden": true,
     "source_hidden": true
    },
    "tags": []
   },
   "outputs": [],
   "source": [
    "be_dpp = get_ddp(trace_me, user_data, endpoint=ENDPOINT)\n",
    "print(json.dumps(be_dpp, indent=2))"
   ]
  },
  {
   "cell_type": "code",
   "execution_count": null,
   "id": "e47e4148-062f-46f3-acc3-7a998ac8dd72",
   "metadata": {
    "collapsed": true,
    "jupyter": {
     "outputs_hidden": true
    },
    "tags": []
   },
   "outputs": [],
   "source": [
    "trace = trace_query(trace_me, users_data['two'], endpoint=ENDPOINT)\n",
    "# check consistency between the registered events, the back-end trace and the generated dpp\n",
    "check_traces(trace, event_seq, tot_dpp, be_dpp)"
   ]
  },
  {
   "cell_type": "code",
   "execution_count": null,
   "id": "71e964a7-54a3-4bdd-a3b7-8a132ebb2a57",
   "metadata": {},
   "outputs": [],
   "source": [
    "save_traces(USE_CASE, tot_dpp, trace, be_dpp, event_seq)"
   ]
  },
  {
   "cell_type": "code",
   "execution_count": null,
   "id": "0d2c5dee-403f-40de-a180-5617181936fd",
   "metadata": {},
   "outputs": [],
   "source": [
    "labels = []\n",
    "sources = []\n",
    "targets = []\n",
    "values = []\n",
    "color_nodes = []\n",
    "color_links = []\n",
    "assigned = {}\n",
    "vis_dpp(tot_dpp[0], count=0, assigned=assigned, labels=labels, targets=targets, sources=sources, values=values, color_nodes=color_nodes, color_links=color_links)\n",
    "sources, targets = consol_trace(assigned, sources, targets)\n",
    "make_sankey(sources, targets, labels, values, color_nodes, color_links)\n",
    "# make_sankey([0,0,1,2,2], [2,3,3,3,4], ['0','1','2','3','4'], [2,1,1,1,1], color_nodes, color_links)"
   ]
  }
 ],
 "metadata": {
  "kernelspec": {
   "display_name": "Python 3 (ipykernel)",
   "language": "python",
   "name": "python3"
  },
  "language_info": {
   "codemirror_mode": {
    "name": "ipython",
    "version": 3
   },
   "file_extension": ".py",
   "mimetype": "text/x-python",
   "name": "python",
   "nbconvert_exporter": "python",
   "pygments_lexer": "ipython3",
   "version": "3.10.9"
  },
  "vscode": {
   "interpreter": {
    "hash": "aee8b7b246df8f9039afb4144a1f6fd8d2ca17a180786b69acc140d282b71a49"
   }
  }
 },
 "nbformat": 4,
 "nbformat_minor": 5
}
