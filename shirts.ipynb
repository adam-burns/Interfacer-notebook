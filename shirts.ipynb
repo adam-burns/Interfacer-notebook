{
 "cells": [
  {
   "cell_type": "markdown",
   "id": "88a915f1",
   "metadata": {},
   "source": [
    "This notebook implements a simple flow described in the following:\n",
    "\n",
    "cotton - consume - Sew Gown - produce - gown\n",
    "\n",
    "gown - transfer-custody - gown\n",
    "\n",
    "gown - accept - Use Gown - modify - gown\n",
    "              /\n",
    "         work\n",
    "\n",
    "gown - transfer-custody - gown\n",
    "\n",
    "water - consume\\\n",
    "  gown - accept - Clean Gown - modify\n",
    "soap - consume /                                              "
   ]
  },
  {
   "cell_type": "code",
   "execution_count": null,
   "id": "2899cdd5",
   "metadata": {},
   "outputs": [],
   "source": [
    "# Import the necessary packages and also the 'isolation_gowns' notebook to reuse the functions\n",
    "import json\n",
    "import requests\n",
    "import os\n",
    "import urllib.parse\n",
    "from zenroom import zenroom\n",
    "from IPython.core.debugger import set_trace\n",
    "import re\n",
    "import base64\n",
    "from datetime import datetime, timezone\n",
    "import random\n",
    "import plotly.graph_objects as go\n",
    "\n",
    "import import_ipynb\n",
    "from isolation_gowns import get_filename, read_HMAC, read_keypair, get_id_person, get_location_id, \\\n",
    "get_unit_id, get_resource, get_process, create_event, trace_query, check_trace, er_before, vis_dpp, make_sankey"
   ]
  },
  {
   "cell_type": "code",
   "execution_count": null,
   "id": "27c62442",
   "metadata": {},
   "outputs": [],
   "source": [
    "# We define the constant for our case\n",
    "USE_CASE = 'shirts'\n",
    "\n",
    "# What endpoint are we talking to?\n",
    "# testing\n",
    "# ENDPOINT = 'http://65.109.11.42:9000/api'\n",
    "ENDPOINT = 'http://65.109.11.42:10000/api'\n",
    "# staging\n",
    "# ENDPOINT = 'http://65.109.11.42:8000/api'\n"
   ]
  },
  {
   "cell_type": "code",
   "execution_count": null,
   "id": "b8bc7c31",
   "metadata": {},
   "outputs": [],
   "source": [
    "# Read or define user data that is going to be used in the GraphQL calls\n",
    "\n",
    "# create data structure to hold processes\n",
    "process_data = {}\n",
    "\n",
    "# create data structures to hold resources and events (possibly to compare results from track and trace)\n",
    "res_data = {}\n",
    "event_seq = []\n",
    "\n",
    "\n",
    "file = get_filename('cred_users.json',ep=ENDPOINT, uc=USE_CASE)\n",
    "if os.path.isfile(file):\n",
    "    with open(file,'r') as f:\n",
    "        users_data = json.loads(f.read())\n",
    "    print(\"Credentials file available for users\")\n",
    "else:\n",
    "    users_data = {}\n",
    "    users_data['alice'] = {\n",
    "      \"userChallenges\": {\n",
    "        \"whereParentsMet\": \"London\",\n",
    "        \"nameFirstPet\": \"Fuffy\",\n",
    "        \"nameFirstTeacher\": \"Jim\",\n",
    "        \"whereHomeTown\": \"Paris\",\n",
    "        \"nameMotherMaid\": \"Wright\"\n",
    "      },\n",
    "      \"name\": \"Alice\",\n",
    "      \"username\": \"alice_username\",\n",
    "      \"email\": \"alice@example.org\",\n",
    "      \"note\": \"me.alice.org\"\n",
    "    }\n",
    "    users_data['carol'] = {\n",
    "        \"userChallenges\": {\n",
    "            \"whereParentsMet\":\"Amsterdam\",\n",
    "            \"nameFirstPet\":\"Toby\",\n",
    "            \"nameFirstTeacher\":\"Juliet\",\n",
    "            \"whereHomeTown\":\"Rome\",\n",
    "            \"nameMotherMaid\":\"Banks\"\n",
    "        },\n",
    "        \"name\": \"Carol\",\n",
    "        \"username\": \"carol_username\",\n",
    "        \"email\": \"carol@example.org\",\n",
    "        \"note\" : \"me.carol.org\"\n",
    "    }\n",
    "\n",
    "    users_data['bob'] = {\n",
    "        \"userChallenges\": {\n",
    "            \"whereParentsMet\":\"Rome\",\n",
    "            \"nameFirstPet\":\"Ku\",\n",
    "            \"nameFirstTeacher\":\"George\",\n",
    "            \"whereHomeTown\":\"Florence\",\n",
    "            \"nameMotherMaid\":\"Canti\"\n",
    "        },\n",
    "        \"name\": \"Bob\",\n",
    "        \"username\": \"bob_username\",\n",
    "        \"email\": \"bob@example.org\",\n",
    "        \"note\" : \"me.bob.org\"\n",
    "    }\n",
    "\n",
    "    with open(file,'w') as f:\n",
    "        json.dump(users_data, f)\n",
    "\n",
    "file = get_filename('loc_users.json',ep=ENDPOINT, uc=USE_CASE)\n",
    "if os.path.isfile(file):\n",
    "    with open(file,'r') as f:\n",
    "        locs_data = json.loads(f.read())\n",
    "    print(\"Location file available\")\n",
    "else:\n",
    "    locs_data = {}\n",
    "    locs_data['one'] = {\n",
    "        \"name\": \"OLVG\",\n",
    "        \"lat\": 52.35871773455108,\n",
    "        \"long\": 4.916762398221842,\n",
    "        \"addr\": \"Oosterpark 9, 1091 AC Amsterdam\",\n",
    "        \"note\": \"location.user1.org\"\n",
    "    }\n",
    "    locs_data['two'] = {\n",
    "        \"name\": \"CleanLease\",\n",
    "        \"lat\" : 51.47240440868687,\n",
    "        \"long\" : 5.412460440524406,\n",
    "        \"addr\" : \"De schakel 30, 5651 Eindhoven\",\n",
    "        \"note\": \"location.user2.org\"\n",
    "    }\n",
    "    with open(file,'w') as f:\n",
    "        json.dump(locs_data, f)\n",
    "\n",
    "file = get_filename('units_data.json',ep=ENDPOINT, uc=USE_CASE)\n",
    "if os.path.isfile(file):\n",
    "    with open(file,'r') as f:\n",
    "        units_data = json.loads(f.read())\n",
    "    print(f\"Unit file available\")\n",
    "else:\n",
    "    units_data = {}\n",
    "#     with open(file,'w') as f:\n",
    "#         json.dump(units_data, f)\n",
    "\n",
    "\n",
    "file = get_filename('res_spec_data.json',ep=ENDPOINT, uc=USE_CASE)\n",
    "if os.path.isfile(file):\n",
    "    with open(file,'r') as f:\n",
    "        res_spec_data = json.loads(f.read())\n",
    "    print(f\"Resource Spec file available\")\n",
    "else:\n",
    "    res_spec_data = {}\n",
    "\n"
   ]
  },
  {
   "cell_type": "code",
   "execution_count": null,
   "id": "5bf379da",
   "metadata": {},
   "outputs": [],
   "source": [
    "# Read HMAC or get it from the server\n",
    "endpt_filename = get_filename('cred_users.json',ep=ENDPOINT, uc=USE_CASE)\n",
    "\n",
    "read_HMAC(endpt_filename, users_data, 'alice')\n",
    "read_HMAC(endpt_filename, users_data, 'carol')\n",
    "read_HMAC(endpt_filename, users_data, 'bob')"
   ]
  },
  {
   "cell_type": "code",
   "execution_count": null,
   "id": "968e547b",
   "metadata": {
    "scrolled": true
   },
   "outputs": [],
   "source": [
    "# Read the keypair\n",
    "endpt_filename = get_filename('cred_users.json',ep=ENDPOINT, uc=USE_CASE)\n",
    "\n",
    "read_keypair(endpt_filename, users_data, 'alice')\n",
    "read_keypair(endpt_filename, users_data, 'carol')\n",
    "read_keypair(endpt_filename, users_data, 'bob')"
   ]
  },
  {
   "cell_type": "code",
   "execution_count": null,
   "id": "5f04298a",
   "metadata": {},
   "outputs": [],
   "source": [
    "# read or get id of the person\n",
    "endpt_filename = get_filename('cred_users.json',ep=ENDPOINT, uc=USE_CASE)\n",
    "\n",
    "get_id_person(endpt_filename, users_data, 'alice')\n",
    "get_id_person(endpt_filename, users_data, 'carol')\n",
    "get_id_person(endpt_filename, users_data, 'bob')"
   ]
  },
  {
   "cell_type": "code",
   "execution_count": null,
   "id": "b4898764",
   "metadata": {},
   "outputs": [],
   "source": [
    "# Read of get the location id\n",
    "endpt_filename = get_filename('loc_users.json',ep=ENDPOINT, uc=USE_CASE)\n",
    "\n",
    "get_location_id(endpt_filename, users_data['alice'], locs_data, 'alice')\n",
    "get_location_id(endpt_filename, users_data['carol'], locs_data, 'carol')\n",
    "get_location_id(endpt_filename, users_data['bob'], locs_data, 'bob')"
   ]
  },
  {
   "cell_type": "code",
   "execution_count": null,
   "id": "9df2fe4f",
   "metadata": {},
   "outputs": [],
   "source": [
    "# Get the ids of all units\n",
    "endpt_filename = get_filename('units_data.json',ep=ENDPOINT, uc=USE_CASE)\n",
    "\n",
    "get_unit_id(endpt_filename, users_data['two'], units_data, 'piece', 'u_piece', 'om2:one')\n",
    "get_unit_id(endpt_filename, users_data['two'], units_data, 'mass', 'kg', 'om2:kilogram')\n",
    "get_unit_id(endpt_filename, users_data['two'], units_data, 'volume', 'lt', 'om2:litre')\n",
    "get_unit_id(endpt_filename, users_data['one'], units_data, 'time', 'h', 'om2:hour')\n"
   ]
  },
  {
   "cell_type": "code",
   "execution_count": null,
   "id": "cd1fd6e8",
   "metadata": {},
   "outputs": [],
   "source": [
    "# Read all the resource specifications\n",
    "endpt_filename = get_filename('res_spec_data.json',ep=ENDPOINT, uc=USE_CASE)\n",
    "\n",
    "name = 'soap'\n",
    "note = 'Specification for soap to be used to wash the gowns'\n",
    "classification = 'https://www.wikidata.org/wiki/Q34396'\n",
    "default_unit_id = units_data['mass']['id']\n",
    "get_resource_spec_id(endpt_filename, users_data['two'], res_spec_data, name, note, classification, default_unit_id)\n",
    "\n",
    "name = 'water'\n",
    "note = 'Specification for water to be used to wash the gowns'\n",
    "classification = 'https://www.wikidata.org/wiki/Q283'\n",
    "default_unit_id = units_data['volume']['id']\n",
    "get_resource_spec_id(endpt_filename, users_data['two'], res_spec_data, name, note, classification, default_unit_id)\n",
    "\n",
    "name = 'cotton'\n",
    "note = 'Specification for cotton to be used to sew the gowns'\n",
    "classification = 'https://www.wikidata.org/wiki/Q11457'\n",
    "default_unit_id = units_data['mass']['id']\n",
    "get_resource_spec_id(endpt_filename, users_data['two'], res_spec_data, name, note, classification, default_unit_id)\n",
    "\n",
    "name = 'gown'\n",
    "note = 'Specification for gowns'\n",
    "classification = 'https://www.wikidata.org/wiki/Q89990310'\n",
    "default_unit_id = units_data['piece']['id']\n",
    "get_resource_spec_id(endpt_filename, users_data['two'], res_spec_data, name, note, classification, default_unit_id)\n",
    "\n",
    "name = 'surgical_operation'\n",
    "note = 'Specification for surgical operations'\n",
    "classification = 'https://www.wikidata.org/wiki/Q600236'\n",
    "default_unit_id = units_data['time']['id']\n",
    "get_resource_spec_id(endpt_filename, users_data['two'], res_spec_data, name, note, classification, default_unit_id)"
   ]
  },
  {
   "cell_type": "code",
   "execution_count": null,
   "id": "36377061",
   "metadata": {},
   "outputs": [],
   "source": [
    "# We create the resources that will not be saved to file as it is assumed they are recreated at each run\n",
    "\n",
    "res_name = 'soap'\n",
    "amount = 100\n",
    "\n",
    "get_resource(res_data, res_name, users_data['two'], event_seq)"
   ]
  },
  {
   "cell_type": "code",
   "execution_count": null,
   "id": "1f2fb82f",
   "metadata": {},
   "outputs": [],
   "source": [
    "res_name = 'water'\n",
    "amount = 50\n",
    "\n",
    "get_resource(res_data, res_name, users_data['two'], event_seq)"
   ]
  },
  {
   "cell_type": "code",
   "execution_count": null,
   "id": "877e88a7",
   "metadata": {},
   "outputs": [],
   "source": [
    "res_name = 'cotton'\n",
    "amount = 20\n",
    "\n",
    "get_resource(res_data, res_name, users_data['two'], event_seq)"
   ]
  },
  {
   "cell_type": "code",
   "execution_count": null,
   "id": "ed2b15ba",
   "metadata": {},
   "outputs": [],
   "source": [
    "# Create the process that wraps sewing of the gown (its creation)\n",
    "process_name = 'Sew gown'\n",
    "user_data = users_data['one']\n",
    "note = f\"Sew gown process performed by {user_data['name']}\"\n",
    "\n",
    "get_process(process_name, note, user_data)"
   ]
  },
  {
   "cell_type": "code",
   "execution_count": null,
   "id": "02c570c6",
   "metadata": {},
   "outputs": [],
   "source": [
    "# Create the process that wraps using the gown in the hospital and make it dirty\n",
    "process_name = 'Use gown'\n",
    "user_data = users_data['one']\n",
    "note = f\"Use gown process performed by {user_data['name']}\"\n",
    "\n",
    "get_process(process_name, note, user_data)"
   ]
  },
  {
   "cell_type": "code",
   "execution_count": null,
   "id": "153222a2",
   "metadata": {},
   "outputs": [],
   "source": [
    "# Create the process that includes cleaning the gown\n",
    "process_name = 'Clean gown'\n",
    "user_data = users_data['two']\n",
    "note = f\"Clean gown process performed by {user_data['name']}\"\n",
    "\n",
    "get_process(process_name, note, user_data)"
   ]
  },
  {
   "cell_type": "code",
   "execution_count": null,
   "id": "609b9864",
   "metadata": {},
   "outputs": [],
   "source": [
    "# Define event consume for the gown creation\n",
    "action = 'consume'\n",
    "event_note='consume cotton for sewing'\n",
    "amount = 10\n",
    "cur_pros = process_data['Sew_gown']\n",
    "cur_res = res_data['cotton_res']\n",
    "\n",
    "\n",
    "event_id, ts = create_event(users_data['two'], action, event_note, amount=amount, process=cur_pros, \\\n",
    "                 existing_res=cur_res)\n",
    "\n",
    "event_seq.append({'ts': ts, 'event_id':event_id, 'action' : action, 'res_name': cur_res['name'], 'res': cur_res['id']})\n",
    "event_seq.append({'ts': ts, 'event_id':cur_pros['id'], 'action' : cur_pros['name'], 'res_name': cur_res['name'], 'res': cur_res['id']})"
   ]
  },
  {
   "cell_type": "code",
   "execution_count": null,
   "id": "468ba053",
   "metadata": {
    "scrolled": true
   },
   "outputs": [],
   "source": [
    "# Define event produce for the gown creation\n",
    "action = 'produce'\n",
    "event_note='produce gown'\n",
    "amount = 1\n",
    "cur_pros = process_data['Sew_gown']\n",
    "\n",
    "res_data['gown_res'] = {\n",
    "    \"res_ref_id\": f'gown-{random.randint(0, 10000)}',\n",
    "    \"name\": 'gown',\n",
    "    \"spec_id\": res_spec_data['gown']['id']\n",
    "}\n",
    "cur_res = res_data['gown_res']\n",
    "\n",
    "\n",
    "event_id, ts = create_event(users_data['two'], action, event_note, amount=amount, process=cur_pros, \\\n",
    "                 new_res=cur_res)\n",
    "\n",
    "event_seq.append({'ts': ts, 'event_id':event_id, 'action' : action, 'res_name': cur_res['name'], 'res': cur_res['id']})\n"
   ]
  },
  {
   "cell_type": "code",
   "execution_count": null,
   "id": "911631dd",
   "metadata": {},
   "outputs": [],
   "source": [
    "# Transfer the gown from the owner/leaser to the hospital\n",
    "note='Transfer gowns to hospital'\n",
    "action = 'transfer-custody'\n",
    "amount = 1\n",
    "cur_res = res_data['gown_res']\n",
    "\n",
    "event_id, ts = make_transfer(users_data['two'], action, note, users_data['one'], amount, cur_res)\n",
    "event_seq.append({'ts': ts, 'event_id':event_id, 'action' : action, 'res_name': cur_res['name'], 'res': cur_res['id']})\n"
   ]
  },
  {
   "cell_type": "code",
   "execution_count": null,
   "id": "8b2cc309",
   "metadata": {},
   "outputs": [],
   "source": [
    "# Work with the gown to perform surgery\n",
    "action = 'work'\n",
    "event_note='work perform surgery'\n",
    "amount = 80\n",
    "cur_pros = process_data['Use_gown']\n",
    "work_spec = {}\n",
    "work_spec['unit_id'] = res_spec_data['surgical_operation']['defaultUnit']\n",
    "work_spec['spec_id'] = res_spec_data['surgical_operation']['id']\n",
    "\n",
    "event_id, ts = create_event(users_data['one'], action, event_note, amount=amount, process=cur_pros, \\\n",
    "                 work_spec=work_spec)\n",
    "\n",
    "event_seq.append({'ts': ts, 'event_id':event_id, 'action' : action, 'res_name': cur_res['name'], 'res': cur_res['id']})\n",
    "    \n"
   ]
  },
  {
   "cell_type": "code",
   "execution_count": null,
   "id": "0199a43b",
   "metadata": {},
   "outputs": [],
   "source": [
    "# Use the gown to perform surgery and as a consequence make it dirty\n",
    "action = 'accept'\n",
    "event_note='accept use for surgery'\n",
    "amount = 1\n",
    "cur_pros = process_data['Use_gown']\n",
    "cur_res = res_data['gown_res']\n",
    "\n",
    "\n",
    "event_id, ts = create_event(users_data['one'], action, event_note, amount=amount, process=cur_pros, \\\n",
    "                 existing_res=cur_res)\n",
    "\n",
    "event_seq.append({'ts': ts, 'event_id':event_id, 'action' : action, 'res_name': cur_res['name'], 'res': cur_res['id']})\n",
    "event_seq.append({'ts': ts, 'event_id':cur_pros['id'], 'action' : cur_pros['name'], 'res_name': cur_res['name'], 'res': cur_res['id']})\n",
    "    \n"
   ]
  },
  {
   "cell_type": "code",
   "execution_count": null,
   "id": "ca3471c3",
   "metadata": {},
   "outputs": [],
   "source": [
    "# Modify the gown and make it dirty as a consequence of being used\n",
    "action = 'modify'\n",
    "event_note='modify dirty after use'\n",
    "amount = 1\n",
    "cur_pros = process_data['Use_gown']\n",
    "cur_res = res_data['gown_res']\n",
    "\n",
    "\n",
    "event_id, ts = create_event(users_data['one'], action, event_note, amount=amount, process=cur_pros, \\\n",
    "                 existing_res=cur_res)\n",
    "\n",
    "event_seq.append({'ts': ts, 'event_id':event_id, 'action' : action, 'res_name': cur_res['name'], 'res': cur_res['id']})\n"
   ]
  },
  {
   "cell_type": "code",
   "execution_count": null,
   "id": "02270f31",
   "metadata": {
    "scrolled": true
   },
   "outputs": [],
   "source": [
    "# Transfer the gown to the leaser for cleaning\n",
    "note='Transfer gowns to cleaner'\n",
    "action = 'transfer-custody'\n",
    "amount = 1\n",
    "cur_res = res_data['gown_res']\n",
    "\n",
    "event_id, ts = make_transfer(users_data['one'], action, note, users_data['two'], amount, cur_res)\n",
    "event_seq.append({'ts': ts, 'event_id':event_id, 'action' : action, 'res_name': cur_res['name'], 'res': cur_res['id']})\n"
   ]
  },
  {
   "cell_type": "code",
   "execution_count": null,
   "id": "06ecd9bc",
   "metadata": {
    "scrolled": true
   },
   "outputs": [],
   "source": [
    "# accept the gown for washing\n",
    "action = 'accept'\n",
    "event_note='accept gowns to be cleaned'\n",
    "amount = 1\n",
    "cur_pros = process_data['Clean_gown']\n",
    "cur_res = res_data['gown_res']\n",
    "\n",
    "\n",
    "event_id, ts = create_event(users_data['two'], action, event_note, amount=amount, process=cur_pros, \\\n",
    "                 existing_res=cur_res)\n",
    "\n",
    "event_seq.append({'ts': ts, 'event_id':event_id, 'action' : action, 'res_name': cur_res['name'], 'res': cur_res['id']})\n"
   ]
  },
  {
   "cell_type": "code",
   "execution_count": null,
   "id": "a78cea31",
   "metadata": {},
   "outputs": [],
   "source": [
    "# consume water for washing\n",
    "action = 'consume'\n",
    "event_note='consume water for the washing'\n",
    "amount = 25\n",
    "cur_pros = process_data['Clean_gown']\n",
    "cur_res = res_data['water_res']\n",
    "\n",
    "\n",
    "event_id, ts = create_event(users_data['two'], action, event_note, amount=amount, process=cur_pros, \\\n",
    "                 existing_res=cur_res)\n",
    "\n",
    "event_seq.append({'ts': ts, 'event_id':event_id, 'action' : action, 'res_name': cur_res['name'], 'res': cur_res['id']})"
   ]
  },
  {
   "cell_type": "code",
   "execution_count": null,
   "id": "72010b22",
   "metadata": {},
   "outputs": [],
   "source": [
    "# consume soap for washing\n",
    "action = 'consume'\n",
    "event_note='consume soap for the washing'\n",
    "amount = 50\n",
    "cur_pros = process_data['Clean_gown']\n",
    "cur_res = res_data['soap_res']\n",
    "\n",
    "\n",
    "event_id, ts = create_event(users_data['two'], action, event_note, amount=amount, process=cur_pros, \\\n",
    "                 existing_res=cur_res)\n",
    "\n",
    "event_seq.append({'ts': ts, 'event_id':event_id, 'action' : action, 'res_name': cur_res['name'], 'res': cur_res['id']})\n",
    "event_seq.append({'ts': ts, 'event_id':cur_pros['id'], 'action' : cur_pros['name'], 'res_name': cur_res['name'], 'res': cur_res['id']})\n"
   ]
  },
  {
   "cell_type": "code",
   "execution_count": null,
   "id": "23f32f18",
   "metadata": {
    "scrolled": false
   },
   "outputs": [],
   "source": [
    "# modify the gown that is now clean\n",
    "action = 'modify'\n",
    "event_note='modify clean after washing'\n",
    "amount = 1\n",
    "cur_pros = process_data['Clean_gown']\n",
    "cur_res = res_data['gown_res']\n",
    "\n",
    "\n",
    "event_id, ts = create_event(users_data['two'], action, event_note, amount=amount, process=cur_pros, \\\n",
    "                 existing_res=cur_res)\n",
    "\n",
    "event_seq.append({'ts': ts, 'event_id':event_id, 'action' : action, 'res_name': cur_res['name'], 'res': cur_res['id']})\n",
    "if action in IN_PR_ACTIONS:\n",
    "    event_seq.append({'ts': ts, 'event_id':cur_pros['id'], 'action' : cur_pros['name'], 'res_name': cur_res['name'], 'res': cur_res['id']})\n",
    "\n"
   ]
  },
  {
   "cell_type": "code",
   "execution_count": null,
   "id": "4b8b4001",
   "metadata": {},
   "outputs": [],
   "source": [
    "show_data()"
   ]
  },
  {
   "cell_type": "code",
   "execution_count": null,
   "id": "065a2a66",
   "metadata": {},
   "outputs": [],
   "source": [
    "# example of using the above functions\n",
    "# show_resource(users_data['one'], '061Z9FX8M4BJ3M6JMB7MW7VSER')\n",
    "# show_proposal(users_data['one'], '061Z9FX9H8PT0JF16KP25VS8R0')\n"
   ]
  },
  {
   "cell_type": "code",
   "execution_count": null,
   "id": "597c9173",
   "metadata": {},
   "outputs": [],
   "source": [
    "trace = trace_query(res_data['gown_res']['id'], users_data['one'])"
   ]
  },
  {
   "cell_type": "code",
   "execution_count": null,
   "id": "6bc07c07",
   "metadata": {},
   "outputs": [],
   "source": [
    "check_trace(trace, event_seq)"
   ]
  },
  {
   "cell_type": "code",
   "execution_count": null,
   "id": "b98ddac7",
   "metadata": {},
   "outputs": [],
   "source": [
    "print(f\"Resource to be traced: {res_data['gown_res']['id']}\")\n",
    "tot_dpp = []\n",
    "visited = []\n",
    "er_before(res_data['gown_res']['id'], users_data['one'], dpp_children=tot_dpp, depth=0)\n",
    "print(json.dumps(tot_dpp, indent=2))\n",
    "print(visited)"
   ]
  },
  {
   "cell_type": "code",
   "execution_count": null,
   "id": "85893af9",
   "metadata": {
    "scrolled": false
   },
   "outputs": [],
   "source": [
    "labels = []\n",
    "sources = []\n",
    "targets = []\n",
    "values = []\n",
    "color_nodes = []\n",
    "color_links = []\n",
    "vis_dpp(tot_dpp[0],0)\n",
    "make_sankey(sources, targets, labels, values, color_nodes, color_links)\n",
    "# make_sankey([0,0,1,2,2], [2,3,3,3,4], ['0','1','2','3','4'], [2,1,1,1,1], color_nodes, color_links)"
   ]
  },
  {
   "cell_type": "code",
   "execution_count": null,
   "id": "ea145f9c",
   "metadata": {},
   "outputs": [],
   "source": [
    "values"
   ]
  }
 ],
 "metadata": {
  "kernelspec": {
   "display_name": "Python 3 (ipykernel)",
   "language": "python",
   "name": "python3"
  },
  "language_info": {
   "codemirror_mode": {
    "name": "ipython",
    "version": 3
   },
   "file_extension": ".py",
   "mimetype": "text/x-python",
   "name": "python",
   "nbconvert_exporter": "python",
   "pygments_lexer": "ipython3",
   "version": "3.9.13"
  },
  "vscode": {
   "interpreter": {
    "hash": "aee8b7b246df8f9039afb4144a1f6fd8d2ca17a180786b69acc140d282b71a49"
   }
  }
 },
 "nbformat": 4,
 "nbformat_minor": 5
}
